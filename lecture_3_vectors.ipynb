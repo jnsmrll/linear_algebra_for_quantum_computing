{
  "cells": [
    {
      "cell_type": "markdown",
      "metadata": {
        "id": "XEG146-ug64u"
      },
      "source": [
        "# Vectors"
      ]
    },
    {
      "cell_type": "markdown",
      "metadata": {
        "id": "srWCbnSyg64v"
      },
      "source": [
        "## Introduction\n",
        "\n",
        "Vectors will be fundamental in our study of quantum computing. The most basic unit of computation in a quantum computer is a \\emph{qubit}, which can be represented as a $2$-dimensional complex vector of length one. So understanding vectors will be foundational and necessary for most of what we will be doing in this book. Vectors can be thought of in many ways, one of the most basic is simply as an array of numbers, which we will often represent as a column of numbers called **column vectors**, but in some cases we will also need **row vectors**:\n",
        "\n",
        "\n",
        "\\begin{align} \\text{Column Vector:} \\ \\begin{pmatrix}\n",
        "a_1 \\\\ a_2 \\\\ \\vdots \\\\ a_n\n",
        "\\end{pmatrix}, \\quad \\quad \\text{Row Vector:} \\ \\begin{pmatrix}\n",
        "a_1, & a_2, & \\cdots, & a_n\n",
        "\\end{pmatrix} \\end{align}"
      ]
    },
    {
      "cell_type": "markdown",
      "metadata": {
        "id": "WOEhU_TZg64v"
      },
      "source": [
        "## Importing NumPy\n",
        "\n",
        "For linear algebra, we need to make sure to import NumPy."
      ]
    },
    {
      "cell_type": "code",
      "execution_count": 1,
      "metadata": {
        "id": "umuqTto7g64v"
      },
      "outputs": [],
      "source": [
        "import numpy as np"
      ]
    },
    {
      "cell_type": "markdown",
      "metadata": {
        "id": "-rJlH79Mg64w"
      },
      "source": [
        "## Row Vectors, Column Vectors, and Bra-Ket Notation"
      ]
    },
    {
      "cell_type": "markdown",
      "metadata": {
        "id": "T4C4FKhDg64w"
      },
      "source": [
        "We can create a column vector and a row vector in Python:"
      ]
    },
    {
      "cell_type": "code",
      "execution_count": 2,
      "metadata": {
        "id": "TluPPzlGg64w"
      },
      "outputs": [],
      "source": [
        "# Create a vector as a row\n",
        "row_vector = np.array([2-1j, 7j, -3])\n",
        "\n",
        "# Create a vector as a column\n",
        "column_vector = np.array([[2+1j],\n",
        "                          [-5],\n",
        "                          [2j]])"
      ]
    },
    {
      "cell_type": "markdown",
      "metadata": {
        "id": "EIGzU2sNg64w"
      },
      "source": [
        "Row vectors in quantum mechanics are also called **bra-vectors**, and are denoted as follows:\n",
        "\n",
        "\\begin{align} \\langle A| = \\begin{pmatrix}\n",
        "a_1, & a_2, \\cdots, & a_n\n",
        "\\end{pmatrix} \\end{align}\n",
        "\n",
        "Column vectors are also called **ket-vectors** in quantum mechanics denoted as follows:\n",
        "\n",
        "\\begin{align} |B\\rangle = \\begin{pmatrix}\n",
        "b_1 \\\\ b_2 \\\\ \\vdots \\\\ b_n\n",
        "\\end{pmatrix} \\end{align}\n",
        "\n",
        "In general, if we have a column vector, i.e. a ket-vector:\n",
        "\n",
        "\\begin{align} |A\\rangle = \\begin{pmatrix}\n",
        "a_1 \\\\ a_2 \\\\ \\vdots \\\\ a_n\n",
        "\\end{pmatrix} \\end{align}\n",
        "\n",
        "the corresponding bra-vector:\n",
        "\n",
        "\\begin{align} \\langle A| = \\begin{pmatrix}\n",
        "a_1^*, & a_2^*, & \\cdots, & a_n^*\n",
        "\\end{pmatrix} \\end{align}\n",
        "\n",
        "is the **complex-conjugate transpose** of the ket-vector $|A\\rangle$, and vice-versa. As an example, if we have the following ket-vector:\n",
        "\n",
        "\n",
        "\\begin{align} |A\\rangle = \\begin{pmatrix}\n",
        "2+i \\\\ 1-3i\n",
        "\\end{pmatrix} \\end{align}\n",
        "\n",
        "then the corresponding bra-vector is:\n",
        "\n",
        "\\begin{align} \\langle A| = \\begin{pmatrix}\n",
        "2-i, & 1+3i\n",
        "\\end{pmatrix} \\end{align}\n",
        "\n",
        "The notation $\\langle A|$ and $|A\\rangle$, for bra- and ket-vectors respectively, is a reference to \\emph{inner products} denoted by brackets and we will discuss it more in the next section when we define inner product. As another example, we might want to have a pair of $2$-dimensional complex column vectors (meaning the entries are complex numbers):\\\\\n",
        "\n",
        "\n",
        "\\begin{align} |A \\rangle = \\begin{pmatrix}\n",
        "2-i \\\\ 5\n",
        "\\end{pmatrix}, \\quad \\quad\n",
        "|B \\rangle = \\begin{pmatrix}\n",
        "7 \\\\ 3i\n",
        "\\end{pmatrix} \\end{align}\n",
        "\n",
        "Remember, $i^2 = -1$ and so $i = \\sqrt{-1}$ is imaginary and complex numbers are always of the form $a + bi$. The corresponding bra-vectors would then be:\n",
        "\n",
        "\\begin{align} \\langle A| = \\begin{pmatrix}\n",
        "2+i, & 5\n",
        "\\end{pmatrix}, \\quad \\quad \\langle B| = \\begin{pmatrix}\n",
        "7, & -3i\n",
        "\\end{pmatrix} \\end{align}\n",
        "\n",
        "The $2$-dimensional vectors we have listed above are not quite the kind of vectors we will be using most often in quantum computing, but until we introduce the norm of a vector and explain what unit vectors are, let us focus on the basic operations we can perform on these vectors. We can always add two vector of the same dimension:\n",
        "\n",
        "\\begin{align} |A\\rangle + |B\\rangle = \\begin{pmatrix}\n",
        "2-i \\\\ 5\n",
        "\\end{pmatrix} + \\begin{pmatrix}\n",
        "7 \\\\ 3i\n",
        "\\end{pmatrix} =\n",
        "\\begin{pmatrix}\n",
        "(2-i) + 7 \\\\ 5 + 3i\n",
        "\\end{pmatrix} =\n",
        "\\begin{pmatrix}\n",
        "9-i \\\\ 5 + 3i\n",
        "\\end{pmatrix} \\end{align}\n",
        "\n",
        "In Python this can be done as follows:"
      ]
    },
    {
      "cell_type": "code",
      "execution_count": 3,
      "metadata": {
        "id": "zDd8ATmzg64w",
        "outputId": "3e6bf2a2-fc7f-4e60-cb88-dcd166da4519",
        "colab": {
          "base_uri": "https://localhost:8080/"
        }
      },
      "outputs": [
        {
          "output_type": "stream",
          "name": "stdout",
          "text": [
            "[[9.-1.j]\n",
            " [5.-3.j]]\n"
          ]
        }
      ],
      "source": [
        "ket_A = np.array([[2-1j],\n",
        "                  [5]])\n",
        "ket_B = np.array([[7],\n",
        "                  [-3j]])\n",
        "print(ket_A + ket_B)"
      ]
    },
    {
      "cell_type": "markdown",
      "metadata": {
        "id": "2OtMR1p2g64w"
      },
      "source": [
        "We can multiply bra-vectors and ket-vectors by scalars:\n",
        "\n",
        "$ 3|A\\rangle = 3 \\begin{pmatrix} 2-i\\\\5 \\end{pmatrix} = \\begin{pmatrix} 6-3i\\\\15 \\end{pmatrix} $"
      ]
    },
    {
      "cell_type": "code",
      "execution_count": 4,
      "metadata": {
        "id": "Q7q54_WDg64w",
        "outputId": "1b4c5698-d883-4177-91db-f43f75ed718c",
        "colab": {
          "base_uri": "https://localhost:8080/"
        }
      },
      "outputs": [
        {
          "output_type": "stream",
          "name": "stdout",
          "text": [
            "[[ 6.-3.j]\n",
            " [15.+0.j]]\n"
          ]
        }
      ],
      "source": [
        "print(3*ket_A)"
      ]
    },
    {
      "cell_type": "markdown",
      "metadata": {
        "id": "XD3srfX2g64x"
      },
      "source": [
        "Similarly for row vectors (bra-vectors):\n",
        "\n",
        "$ 5\\langle B| = 5 \\begin{pmatrix} 7, & 3i \\end{pmatrix}  = \\begin{pmatrix} 35, & 15i \\end{pmatrix}$"
      ]
    },
    {
      "cell_type": "code",
      "execution_count": 5,
      "metadata": {
        "id": "7p_Nty_Ig64x",
        "outputId": "4c236b79-e459-4868-dd56-24cd2531cbe0",
        "colab": {
          "base_uri": "https://localhost:8080/"
        }
      },
      "outputs": [
        {
          "output_type": "stream",
          "name": "stdout",
          "text": [
            "[[35. +0.j  0.+15.j]]\n"
          ]
        }
      ],
      "source": [
        "bra_B = np.array([[7, 3j]])\n",
        "print(5*bra_B)"
      ]
    },
    {
      "cell_type": "markdown",
      "metadata": {
        "id": "bYMEdMmOg64x"
      },
      "source": [
        "## Exercises\n",
        "\n",
        "1. Define the following ket-vector as an array in Python:\n",
        "\n",
        "\\begin{align}\n",
        "|\\psi \\rangle = \\begin{pmatrix} 2, & 3i \\end{pmatrix}\n",
        "\\end{align}\n",
        "\n",
        "2. Define $|\\psi \\rangle$ from the previous problem as a (column) matrix and compute its Hermitian conjugate.\n",
        "3. Define two ket vectors (column vectors) in Python:\n",
        "\n",
        "\\begin{align}\n",
        "|A\\rangle = \\begin{pmatrix}\n",
        "2 \\\\ 5-5j\n",
        "\\end{pmatrix}, \\quad\n",
        "|B\\rangle = \\begin{pmatrix}\n",
        "2+3j \\\\ -3j\n",
        "\\end{pmatrix}\n",
        "\\end{align}\n",
        "\n",
        "4. Compute $|A\\rangle + |B\\rangle$\n",
        "5. Compute $3|A\\rangle$."
      ]
    },
    {
      "cell_type": "code",
      "source": [
        "w = np.array([[2], [-3j]])\n",
        "w"
      ],
      "metadata": {
        "id": "x8mlcNJOiREr",
        "outputId": "ec55c90b-d88b-4e2d-f971-ff6c1e898892",
        "colab": {
          "base_uri": "https://localhost:8080/"
        }
      },
      "execution_count": 8,
      "outputs": [
        {
          "output_type": "execute_result",
          "data": {
            "text/plain": [
              "array([[ 2.+0.j],\n",
              "       [-0.-3.j]])"
            ]
          },
          "metadata": {},
          "execution_count": 8
        }
      ]
    },
    {
      "cell_type": "code",
      "source": [
        "np.conj(w)"
      ],
      "metadata": {
        "id": "xAD507Zfid7s",
        "outputId": "8f09bdcd-d081-4340-a0db-d53021a758ca",
        "colab": {
          "base_uri": "https://localhost:8080/"
        }
      },
      "execution_count": 9,
      "outputs": [
        {
          "output_type": "execute_result",
          "data": {
            "text/plain": [
              "array([[ 2.-0.j],\n",
              "       [-0.+3.j]])"
            ]
          },
          "metadata": {},
          "execution_count": 9
        }
      ]
    },
    {
      "cell_type": "code",
      "source": [
        "A = np.array([[2], [5 -5j]])\n",
        "B = np.array([[2+3j], [-3j]])"
      ],
      "metadata": {
        "id": "qv_3IDorivL5"
      },
      "execution_count": 11,
      "outputs": []
    },
    {
      "cell_type": "code",
      "source": [
        "A + B"
      ],
      "metadata": {
        "id": "rT7suinti6IW",
        "outputId": "9e9ec0ac-1146-4e1d-e9ba-cfcdc1824c46",
        "colab": {
          "base_uri": "https://localhost:8080/"
        }
      },
      "execution_count": 12,
      "outputs": [
        {
          "output_type": "execute_result",
          "data": {
            "text/plain": [
              "array([[4.+3.j],\n",
              "       [5.-8.j]])"
            ]
          },
          "metadata": {},
          "execution_count": 12
        }
      ]
    },
    {
      "cell_type": "code",
      "source": [
        "3*A"
      ],
      "metadata": {
        "id": "8YVrYIUui8dv",
        "outputId": "eacfca0a-40d3-4d58-a48b-e58d9e41b900",
        "colab": {
          "base_uri": "https://localhost:8080/"
        }
      },
      "execution_count": 13,
      "outputs": [
        {
          "output_type": "execute_result",
          "data": {
            "text/plain": [
              "array([[ 6. +0.j],\n",
              "       [15.-15.j]])"
            ]
          },
          "metadata": {},
          "execution_count": 13
        }
      ]
    },
    {
      "cell_type": "code",
      "source": [],
      "metadata": {
        "id": "Mh8tKtRkjAlr"
      },
      "execution_count": null,
      "outputs": []
    }
  ],
  "metadata": {
    "kernelspec": {
      "display_name": "Python 3",
      "language": "python",
      "name": "python3"
    },
    "language_info": {
      "codemirror_mode": {
        "name": "ipython",
        "version": 3
      },
      "file_extension": ".py",
      "mimetype": "text/x-python",
      "name": "python",
      "nbconvert_exporter": "python",
      "pygments_lexer": "ipython3",
      "version": "3.7.3"
    },
    "colab": {
      "provenance": []
    }
  },
  "nbformat": 4,
  "nbformat_minor": 0
}