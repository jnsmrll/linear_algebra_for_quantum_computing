{
  "cells": [
    {
      "cell_type": "markdown",
      "metadata": {
        "id": "7OJf8fZceKCv"
      },
      "source": [
        "# Complex Numbers in Python"
      ]
    },
    {
      "cell_type": "markdown",
      "metadata": {
        "id": "-c4dJ_FaeKCw"
      },
      "source": [
        "## Introduction"
      ]
    },
    {
      "cell_type": "markdown",
      "metadata": {
        "id": "L4_pobPheKCw"
      },
      "source": [
        "Complex numbers are fundamental to quantum computing so understanding them will be a good first step in understanding how quantum computers work. Quantum computers process information differently from classical computers like your laptop, smartphone, or a supercomputer used to train modern neural networks. They do this in part by using interference patterns of *amplitudes* which are complex numbers that describe the states of the qubits in a quantum computer.\n",
        "\n",
        "Complex numbers are always of the form\n",
        "\n",
        "\\begin{align}\n",
        "\\alpha = a + bi\n",
        "\\end{align}\n",
        "\n",
        "where $a$ and $b$ are real numbers and $i = \\sqrt{-1}$. Complex numbers can be used in Python by importing [NumPy](https://numpy.org/):\n",
        "\n",
        "> \"the fundamental package for scientific computing with Python. It contains among other things:\n",
        "> - a powerful N-dimensional array object\n",
        "> - sophisticated (broadcasting) functions\n",
        "> - tools for integrating C/C++ and Fortran code\n",
        "> - useful linear algebra, Fourier transform, and random number capabilities\n",
        "> Besides its obvious scientific uses, NumPy can also be used as an efficient multi-dimensional container of generic data. Arbitrary data-types can be defined. This allows NumPy to seamlessly and speedily integrate with a wide variety of databases.\""
      ]
    },
    {
      "cell_type": "markdown",
      "metadata": {
        "id": "GfBurU8PeKCx"
      },
      "source": [
        "## Importing NumPy\n",
        "\n",
        "We will primarily use NumPy for arithmetic with complex numbers as well as for linear algebra. To import NumPy we type the following code:"
      ]
    },
    {
      "cell_type": "code",
      "execution_count": 1,
      "metadata": {
        "id": "Vfz4w_DaeKCx"
      },
      "outputs": [],
      "source": [
        "import numpy as np"
      ]
    },
    {
      "cell_type": "markdown",
      "metadata": {
        "id": "oq-8OfeeeKCx"
      },
      "source": [
        "## Arithmetic of Complex Numbers"
      ]
    },
    {
      "cell_type": "markdown",
      "metadata": {
        "id": "v8_9efl3eKCx"
      },
      "source": [
        "We will be working with complex numbers in this tutorial. If complex numbers are completely new and strange to you, consider watching the short video by [Khan Academy](https://www.youtube.com/watch?v=SP-YJe7Vldo&list=PLucNEDEq4z_AdqV1ii0vmH0clNhYPI4lK&index=2). In Python the imaginary unit $i$ is instead represented as $j$, and must always be written with a coefficient. So in Python, we must write $1j$ instead of $j$, and $-1j$ instead of just $-j$. Let's check that $j^2 = -1$."
      ]
    },
    {
      "cell_type": "code",
      "execution_count": 2,
      "metadata": {
        "id": "nVCGhPVkeKCx",
        "outputId": "e567c1d6-617e-467d-84bb-ec9e0c766421",
        "colab": {
          "base_uri": "https://localhost:8080/"
        }
      },
      "outputs": [
        {
          "output_type": "execute_result",
          "data": {
            "text/plain": [
              "(-1+0j)"
            ]
          },
          "metadata": {},
          "execution_count": 2
        }
      ],
      "source": [
        "(-1j)*(-1j)"
      ]
    },
    {
      "cell_type": "markdown",
      "metadata": {
        "id": "fK2xhjX7eKCy"
      },
      "source": [
        "As we can see, the output is:\n",
        "\n",
        "\\begin{align}\n",
        "-1 + 0j = -1.\n",
        "\\end{align}"
      ]
    },
    {
      "cell_type": "markdown",
      "metadata": {
        "id": "b-GuAy6zeKCy"
      },
      "source": [
        "Now, let's define two complex numbers\n",
        "\n",
        "\\begin{align}\n",
        "z &= 3+2j \\\\\n",
        "w &= -2-5j\n",
        "\\end{align}"
      ]
    },
    {
      "cell_type": "code",
      "execution_count": 3,
      "metadata": {
        "id": "T23-lAj8eKCy"
      },
      "outputs": [],
      "source": [
        "z = 3 + 2j\n",
        "w = -2 - 5j"
      ]
    },
    {
      "cell_type": "markdown",
      "metadata": {
        "id": "gyTiGZiSeKCy"
      },
      "source": [
        "If we wanted to print $z$ and $w$, we could simply type them into a Jupyter cell as follows (followed by `shift+enter`):"
      ]
    },
    {
      "cell_type": "code",
      "execution_count": 4,
      "metadata": {
        "id": "EFQj0mlneKCy",
        "outputId": "f6d5283e-b127-4f4c-e8f5-d9ff5619f931",
        "colab": {
          "base_uri": "https://localhost:8080/"
        }
      },
      "outputs": [
        {
          "output_type": "execute_result",
          "data": {
            "text/plain": [
              "(3+2j)"
            ]
          },
          "metadata": {},
          "execution_count": 4
        }
      ],
      "source": [
        "z"
      ]
    },
    {
      "cell_type": "code",
      "execution_count": 5,
      "metadata": {
        "id": "IsQuNf4weKCy",
        "outputId": "0bea6c08-ef4a-4071-b88b-345ff9aad3a8",
        "colab": {
          "base_uri": "https://localhost:8080/"
        }
      },
      "outputs": [
        {
          "output_type": "execute_result",
          "data": {
            "text/plain": [
              "(-2-5j)"
            ]
          },
          "metadata": {},
          "execution_count": 5
        }
      ],
      "source": [
        "w"
      ]
    },
    {
      "cell_type": "markdown",
      "metadata": {
        "id": "2Hd12QkUeKCz"
      },
      "source": [
        "We could also type the `print()` command (followed by `shift+enter`):"
      ]
    },
    {
      "cell_type": "code",
      "execution_count": 6,
      "metadata": {
        "id": "3nRbWz9_eKCz",
        "outputId": "931c20f1-3add-480c-b76e-9309638f0ecd",
        "colab": {
          "base_uri": "https://localhost:8080/"
        }
      },
      "outputs": [
        {
          "output_type": "stream",
          "name": "stdout",
          "text": [
            "(3+2j)\n"
          ]
        }
      ],
      "source": [
        "print(z)"
      ]
    },
    {
      "cell_type": "code",
      "execution_count": 7,
      "metadata": {
        "id": "eHkQQNAEeKCz",
        "outputId": "8a6e2771-101e-4770-f1f2-b33edb3e5fa8",
        "colab": {
          "base_uri": "https://localhost:8080/"
        }
      },
      "outputs": [
        {
          "output_type": "stream",
          "name": "stdout",
          "text": [
            "(-2-5j)\n"
          ]
        }
      ],
      "source": [
        "print(w)"
      ]
    },
    {
      "cell_type": "markdown",
      "metadata": {
        "id": "zd7SthnoeKCz"
      },
      "source": [
        "If we wanted to label what we are printing we can do the following:"
      ]
    },
    {
      "cell_type": "code",
      "execution_count": 8,
      "metadata": {
        "id": "PKmc7aDIeKCz",
        "outputId": "d71554b4-2ce9-4cb4-d1e5-084789796a66",
        "colab": {
          "base_uri": "https://localhost:8080/"
        }
      },
      "outputs": [
        {
          "output_type": "stream",
          "name": "stdout",
          "text": [
            "z= (3+2j)\n"
          ]
        }
      ],
      "source": [
        "print(\"z=\", z)"
      ]
    },
    {
      "cell_type": "code",
      "execution_count": 9,
      "metadata": {
        "id": "5OpozQyJeKCz",
        "outputId": "2967e91b-ab1a-48f9-97ef-1f9f74b09406",
        "colab": {
          "base_uri": "https://localhost:8080/"
        }
      },
      "outputs": [
        {
          "output_type": "stream",
          "name": "stdout",
          "text": [
            "the complex number w is: (-2-5j)\n"
          ]
        }
      ],
      "source": [
        "print(\"the complex number w is:\", w)"
      ]
    },
    {
      "cell_type": "markdown",
      "metadata": {
        "id": "LP0RbhiXeKCz"
      },
      "source": [
        "We can print the real and imaginary parts of complex numbers as follows for $z = 3+4i:"
      ]
    },
    {
      "cell_type": "code",
      "execution_count": 10,
      "metadata": {
        "id": "6LRXIkBveKCz",
        "outputId": "ec7d2ea5-b5ff-4c9f-d0d7-1f23ea1790d2",
        "colab": {
          "base_uri": "https://localhost:8080/"
        }
      },
      "outputs": [
        {
          "output_type": "stream",
          "name": "stdout",
          "text": [
            "z= (3+2j)\n",
            "Real(z)= 3.0\n",
            "Imag(Z)= 2.0\n"
          ]
        }
      ],
      "source": [
        "print('z=', z)\n",
        "print('Real(z)=', np.real(z))\n",
        "print('Imag(Z)=', np.imag(z))"
      ]
    },
    {
      "cell_type": "code",
      "execution_count": 11,
      "metadata": {
        "id": "0rQQSREeeKCz",
        "outputId": "9d301897-694f-4ff8-a30b-2fd9d22c674c",
        "colab": {
          "base_uri": "https://localhost:8080/"
        }
      },
      "outputs": [
        {
          "output_type": "stream",
          "name": "stdout",
          "text": [
            "w= (-2-5j)\n",
            "Real(w)= -2.0\n",
            "Imag(w)= -5.0\n"
          ]
        }
      ],
      "source": [
        "print('w=', w)\n",
        "print('Real(w)=', np.real(w))\n",
        "print('Imag(w)=', np.imag(w))"
      ]
    },
    {
      "cell_type": "markdown",
      "metadata": {
        "id": "naMOTsJMeKCz"
      },
      "source": [
        "## Complex Conjugates\n",
        "\n",
        "We can compute the **complex conjugates** $z^*$ and $w^*$, which just negates the imaginary part of the complex numbers as follows:"
      ]
    },
    {
      "cell_type": "code",
      "execution_count": 12,
      "metadata": {
        "id": "qrTZtwJPeKC0",
        "outputId": "7e7c3531-091c-4f4b-9ead-721c76c0aec2",
        "colab": {
          "base_uri": "https://localhost:8080/"
        }
      },
      "outputs": [
        {
          "output_type": "execute_result",
          "data": {
            "text/plain": [
              "np.complex128(3-2j)"
            ]
          },
          "metadata": {},
          "execution_count": 12
        }
      ],
      "source": [
        "np.conj(z)"
      ]
    },
    {
      "cell_type": "code",
      "execution_count": 13,
      "metadata": {
        "id": "8JQZfoZ_eKC0",
        "outputId": "9ef7c7e0-ee1c-41db-e02e-207a24b0f96e",
        "colab": {
          "base_uri": "https://localhost:8080/"
        }
      },
      "outputs": [
        {
          "output_type": "execute_result",
          "data": {
            "text/plain": [
              "np.complex128(-2+5j)"
            ]
          },
          "metadata": {},
          "execution_count": 13
        }
      ],
      "source": [
        "np.conj(w)"
      ]
    },
    {
      "cell_type": "markdown",
      "metadata": {
        "id": "P-9wWGLOeKC0"
      },
      "source": [
        "As we can see, complex conjugation negates the imaginary part of the complex number."
      ]
    },
    {
      "cell_type": "markdown",
      "metadata": {
        "id": "PBZWyKGXeKC0"
      },
      "source": [
        "## Norms/Absolute Values\n",
        "\n",
        "We can compute the **absolute value** of the complex numbers\n",
        "\n",
        "\\begin{align} ||z|| &= \\sqrt{zz^*} = \\sqrt{|z|^2},\\\\ ||w|| &= \\sqrt{ww^*} = \\sqrt{|w|^2}, \\end{align}"
      ]
    },
    {
      "cell_type": "code",
      "execution_count": 14,
      "metadata": {
        "id": "6XnbOi2TeKC0",
        "outputId": "b6cac767-5cf5-4e5e-b939-fb36f951cd3e",
        "colab": {
          "base_uri": "https://localhost:8080/"
        }
      },
      "outputs": [
        {
          "output_type": "stream",
          "name": "stdout",
          "text": [
            "||z||= 3.6055512754639896\n"
          ]
        }
      ],
      "source": [
        "print('||z||=', np.abs(z))"
      ]
    },
    {
      "cell_type": "code",
      "execution_count": 15,
      "metadata": {
        "id": "RO-FwMeLeKC0",
        "outputId": "1b421994-476e-4e34-d7c3-6eab2e034acb",
        "colab": {
          "base_uri": "https://localhost:8080/"
        }
      },
      "outputs": [
        {
          "output_type": "stream",
          "name": "stdout",
          "text": [
            "||w||= 5.385164807134504\n"
          ]
        }
      ],
      "source": [
        "print('||w||=', np.abs(w))"
      ]
    },
    {
      "cell_type": "markdown",
      "metadata": {
        "id": "FnaVZzJkeKC0"
      },
      "source": [
        "Now, there are many different arithmetic operations we can perform on complex numbers. Addition, subtraction, multiplication, and division are all defined for complex numbers and can be computer using NumPy. As an example, let's compute the following three values,\n",
        "\n",
        "- $z+w$\n",
        "- $z-w$\n",
        "- $w-z$"
      ]
    },
    {
      "cell_type": "code",
      "execution_count": 16,
      "metadata": {
        "id": "T4Ofi3jUeKC0",
        "outputId": "483b0d28-05ae-4f0d-cb8e-33be3c48a971",
        "colab": {
          "base_uri": "https://localhost:8080/"
        }
      },
      "outputs": [
        {
          "output_type": "execute_result",
          "data": {
            "text/plain": [
              "(1-3j)"
            ]
          },
          "metadata": {},
          "execution_count": 16
        }
      ],
      "source": [
        "z+w"
      ]
    },
    {
      "cell_type": "code",
      "execution_count": 17,
      "metadata": {
        "id": "18Trr1NteKC0",
        "outputId": "7fe3e668-b5ac-4a20-cb70-72761f00e3a1",
        "colab": {
          "base_uri": "https://localhost:8080/"
        }
      },
      "outputs": [
        {
          "output_type": "execute_result",
          "data": {
            "text/plain": [
              "(5+7j)"
            ]
          },
          "metadata": {},
          "execution_count": 17
        }
      ],
      "source": [
        "z-w"
      ]
    },
    {
      "cell_type": "code",
      "execution_count": 18,
      "metadata": {
        "id": "GN5fOhQ-eKC0",
        "outputId": "85e8a79a-4ab7-4f22-8059-a1864d2dad9b",
        "colab": {
          "base_uri": "https://localhost:8080/"
        }
      },
      "outputs": [
        {
          "output_type": "execute_result",
          "data": {
            "text/plain": [
              "(-5-7j)"
            ]
          },
          "metadata": {},
          "execution_count": 18
        }
      ],
      "source": [
        "w-z"
      ]
    },
    {
      "cell_type": "markdown",
      "metadata": {
        "id": "ACru2EbueKC1"
      },
      "source": [
        "Addition and subtraction of complex numbers is done *componentwise*, meaning the real parts and the complex parts are added or subtracted individually and do not effect each other. So, for example,\n",
        "\n",
        "\\begin{align}\n",
        "z+w = (3+2j) + (-2-5j) = (3-2) + (2-5)j = 1-3j.\n",
        "\\end{align}"
      ]
    },
    {
      "cell_type": "markdown",
      "metadata": {
        "id": "lxjwqsQNeKC1"
      },
      "source": [
        "We can also multiply complex numbers and divide them as well. This is also handled by NumPy. Let's compute the following three values,\n",
        "\n",
        "- $z \\cdot w$\n",
        "- $\\frac{z}{w}$\n",
        "- $\\frac{w}{z}$"
      ]
    },
    {
      "cell_type": "code",
      "execution_count": 19,
      "metadata": {
        "id": "CC7RrpyYeKC1",
        "outputId": "7d55283a-3bce-403d-db2a-bc870826ea51",
        "colab": {
          "base_uri": "https://localhost:8080/"
        }
      },
      "outputs": [
        {
          "output_type": "execute_result",
          "data": {
            "text/plain": [
              "(4-19j)"
            ]
          },
          "metadata": {},
          "execution_count": 19
        }
      ],
      "source": [
        "z*w"
      ]
    },
    {
      "cell_type": "code",
      "execution_count": 20,
      "metadata": {
        "id": "SW3nYkk2eKC1",
        "outputId": "42e565d9-f8f4-4039-b926-403618836bab",
        "colab": {
          "base_uri": "https://localhost:8080/"
        }
      },
      "outputs": [
        {
          "output_type": "execute_result",
          "data": {
            "text/plain": [
              "(-0.5517241379310345+0.37931034482758624j)"
            ]
          },
          "metadata": {},
          "execution_count": 20
        }
      ],
      "source": [
        "z/w"
      ]
    },
    {
      "cell_type": "code",
      "execution_count": 21,
      "metadata": {
        "id": "xQ3pQgn6eKC1",
        "outputId": "09e498f8-1d83-4716-cd0f-b0b3da801c08",
        "colab": {
          "base_uri": "https://localhost:8080/"
        }
      },
      "outputs": [
        {
          "output_type": "execute_result",
          "data": {
            "text/plain": [
              "(-1.2307692307692308-0.8461538461538463j)"
            ]
          },
          "metadata": {},
          "execution_count": 21
        }
      ],
      "source": [
        "w/z"
      ]
    },
    {
      "cell_type": "markdown",
      "metadata": {
        "id": "_Xz32EU9eKC1"
      },
      "source": [
        "## Exercises"
      ]
    },
    {
      "cell_type": "markdown",
      "metadata": {
        "id": "fSFycnrheKC1"
      },
      "source": [
        "1. Define two complex numbers $u = 1-3j$ and $v = 5+2j$ in Python.\n",
        "2. Compute $u+v$.\n",
        "3. Compute $u-v$.\n",
        "4. Compute $v-u$.\n",
        "5. Compute $u \\cdot v$.\n",
        "6. Compute $\\frac{u}{v}$.\n",
        "7. Compute $\\frac{v}{u}$.\n",
        "8. Compute the complex conjugate of the following complex numbers:\n",
        "\\begin{align}\n",
        "u = 2-i, \\quad z = 3+4i, \\quad w = -9i\n",
        "\\end{align}\n",
        "9. Compute the absolute value (or norm) of $u, z,$ and $w$.\n",
        "10. Compute the absolute values using Python to check that they match your answers. Don't forget to use \"$j$\" instead of \"$i$\" in Python."
      ]
    },
    {
      "cell_type": "code",
      "source": [
        "u = 1 - 3j\n",
        "v = 5 + 2j"
      ],
      "metadata": {
        "id": "CUzacTk8gCiS"
      },
      "execution_count": 22,
      "outputs": []
    },
    {
      "cell_type": "code",
      "source": [
        "u + v"
      ],
      "metadata": {
        "id": "Ghx6qtyygKCt",
        "outputId": "cb1f5a32-58a0-45b5-ce6d-9a9a3919494b",
        "colab": {
          "base_uri": "https://localhost:8080/"
        }
      },
      "execution_count": 23,
      "outputs": [
        {
          "output_type": "execute_result",
          "data": {
            "text/plain": [
              "(6-1j)"
            ]
          },
          "metadata": {},
          "execution_count": 23
        }
      ]
    },
    {
      "cell_type": "code",
      "source": [
        "u - v"
      ],
      "metadata": {
        "id": "WLuetM0PgKtW",
        "outputId": "e411e5de-22a5-48d4-daa9-236a8ac099fe",
        "colab": {
          "base_uri": "https://localhost:8080/"
        }
      },
      "execution_count": 24,
      "outputs": [
        {
          "output_type": "execute_result",
          "data": {
            "text/plain": [
              "(-4-5j)"
            ]
          },
          "metadata": {},
          "execution_count": 24
        }
      ]
    },
    {
      "cell_type": "code",
      "source": [
        "v - u"
      ],
      "metadata": {
        "id": "B64yLEKjgLwV",
        "outputId": "8c3eb99b-78a5-4045-b437-d69da6f571fc",
        "colab": {
          "base_uri": "https://localhost:8080/"
        }
      },
      "execution_count": 25,
      "outputs": [
        {
          "output_type": "execute_result",
          "data": {
            "text/plain": [
              "(4+5j)"
            ]
          },
          "metadata": {},
          "execution_count": 25
        }
      ]
    },
    {
      "cell_type": "code",
      "source": [
        "u * v"
      ],
      "metadata": {
        "id": "QSjw99gBgM4I",
        "outputId": "ffadc431-fc57-4eac-8ece-ba7cdd1488a8",
        "colab": {
          "base_uri": "https://localhost:8080/"
        }
      },
      "execution_count": 26,
      "outputs": [
        {
          "output_type": "execute_result",
          "data": {
            "text/plain": [
              "(11-13j)"
            ]
          },
          "metadata": {},
          "execution_count": 26
        }
      ]
    },
    {
      "cell_type": "code",
      "source": [
        "u/v"
      ],
      "metadata": {
        "id": "o1MiSSLHgO-0",
        "outputId": "6bd55aa5-f6b9-49ee-8b50-fb07d341e9c5",
        "colab": {
          "base_uri": "https://localhost:8080/"
        }
      },
      "execution_count": 27,
      "outputs": [
        {
          "output_type": "execute_result",
          "data": {
            "text/plain": [
              "(-0.03448275862068969-0.5862068965517241j)"
            ]
          },
          "metadata": {},
          "execution_count": 27
        }
      ]
    },
    {
      "cell_type": "code",
      "source": [
        "v/u"
      ],
      "metadata": {
        "id": "0lLBBopEgQho",
        "outputId": "af5fc4f9-44ee-4350-a1e4-7bd54c0b3d28",
        "colab": {
          "base_uri": "https://localhost:8080/"
        }
      },
      "execution_count": 28,
      "outputs": [
        {
          "output_type": "execute_result",
          "data": {
            "text/plain": [
              "(-0.10000000000000003+1.7j)"
            ]
          },
          "metadata": {},
          "execution_count": 28
        }
      ]
    },
    {
      "cell_type": "code",
      "source": [
        "u = 2 - 1j\n",
        "z = 3 + 4j\n",
        "w = -9j"
      ],
      "metadata": {
        "id": "XmJHUNPUgSeq"
      },
      "execution_count": 29,
      "outputs": []
    },
    {
      "cell_type": "code",
      "source": [
        "np.conj(u)"
      ],
      "metadata": {
        "id": "EAo1FNEFgbom",
        "outputId": "1ca5625e-7d07-4338-bf27-1bbd3cb443d6",
        "colab": {
          "base_uri": "https://localhost:8080/"
        }
      },
      "execution_count": 30,
      "outputs": [
        {
          "output_type": "execute_result",
          "data": {
            "text/plain": [
              "np.complex128(2+1j)"
            ]
          },
          "metadata": {},
          "execution_count": 30
        }
      ]
    },
    {
      "cell_type": "code",
      "source": [
        "np.conj(z)"
      ],
      "metadata": {
        "id": "WZBaqsKmgd3z",
        "outputId": "ac88ff94-b674-4157-a92a-833f0af7691a",
        "colab": {
          "base_uri": "https://localhost:8080/"
        }
      },
      "execution_count": 31,
      "outputs": [
        {
          "output_type": "execute_result",
          "data": {
            "text/plain": [
              "np.complex128(3-4j)"
            ]
          },
          "metadata": {},
          "execution_count": 31
        }
      ]
    },
    {
      "cell_type": "code",
      "source": [
        "np.conj(w)"
      ],
      "metadata": {
        "id": "XEDtJnatgfsR",
        "outputId": "c48775a3-0300-4eb1-caa7-32d75f1b1e01",
        "colab": {
          "base_uri": "https://localhost:8080/"
        }
      },
      "execution_count": 32,
      "outputs": [
        {
          "output_type": "execute_result",
          "data": {
            "text/plain": [
              "np.complex128(-0+9j)"
            ]
          },
          "metadata": {},
          "execution_count": 32
        }
      ]
    },
    {
      "cell_type": "code",
      "source": [
        "np.abs(u)"
      ],
      "metadata": {
        "id": "i6bAgXyaggwg",
        "outputId": "6de1a3c5-c907-44a9-cb8e-ffb29ead453d",
        "colab": {
          "base_uri": "https://localhost:8080/"
        }
      },
      "execution_count": 33,
      "outputs": [
        {
          "output_type": "execute_result",
          "data": {
            "text/plain": [
              "np.float64(2.23606797749979)"
            ]
          },
          "metadata": {},
          "execution_count": 33
        }
      ]
    },
    {
      "cell_type": "code",
      "source": [
        "np.abs(z)"
      ],
      "metadata": {
        "id": "D1I93UpzgjjW",
        "outputId": "b4d83185-cf22-4ff7-b762-22f9d59385d2",
        "colab": {
          "base_uri": "https://localhost:8080/"
        }
      },
      "execution_count": 34,
      "outputs": [
        {
          "output_type": "execute_result",
          "data": {
            "text/plain": [
              "np.float64(5.0)"
            ]
          },
          "metadata": {},
          "execution_count": 34
        }
      ]
    },
    {
      "cell_type": "code",
      "source": [
        "np.abs(w)"
      ],
      "metadata": {
        "id": "PtawlXABgk3v",
        "outputId": "3a3a4940-c7e9-488c-b633-dfc9541e81f6",
        "colab": {
          "base_uri": "https://localhost:8080/"
        }
      },
      "execution_count": 35,
      "outputs": [
        {
          "output_type": "execute_result",
          "data": {
            "text/plain": [
              "np.float64(9.0)"
            ]
          },
          "metadata": {},
          "execution_count": 35
        }
      ]
    },
    {
      "cell_type": "code",
      "source": [],
      "metadata": {
        "id": "qfrYq-6NglqA"
      },
      "execution_count": null,
      "outputs": []
    }
  ],
  "metadata": {
    "kernelspec": {
      "display_name": "Python 3",
      "language": "python",
      "name": "python3"
    },
    "language_info": {
      "codemirror_mode": {
        "name": "ipython",
        "version": 3
      },
      "file_extension": ".py",
      "mimetype": "text/x-python",
      "name": "python",
      "nbconvert_exporter": "python",
      "pygments_lexer": "ipython3",
      "version": "3.7.3"
    },
    "colab": {
      "provenance": []
    }
  },
  "nbformat": 4,
  "nbformat_minor": 0
}