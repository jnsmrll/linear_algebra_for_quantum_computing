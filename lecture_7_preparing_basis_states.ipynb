{
  "cells": [
    {
      "cell_type": "markdown",
      "metadata": {
        "id": "q3Ng_npPHagH"
      },
      "source": [
        "# Preparing Basis States in PennyLane"
      ]
    },
    {
      "cell_type": "markdown",
      "metadata": {
        "id": "ml4ztwQ5HagH"
      },
      "source": [
        "## Importing PennyLane and the wrapped version of NumPy\n",
        "\n",
        "PennyLane is an open source software for quantum machine learning and quantum computing algorithms. It integrates standard machine learning software and tools, such as TensorFlow and Pytorch, with quantum computing software like IBM's Qiskit, Microsoft's Q#, and Google's Cirq. It also has its own built in functions and models, and allows various hardware backends such as the quantum computers available from IBM via free cloud access. PennyLane has a wrapped version of NumPy that we import rather than the standard NumPy we have been using."
      ]
    },
    {
      "cell_type": "code",
      "execution_count": 1,
      "metadata": {
        "id": "EdhadykXHagI",
        "outputId": "57ce13da-b3f9-4a5f-9a6f-6d27dc3bb508",
        "colab": {
          "base_uri": "https://localhost:8080/"
        }
      },
      "outputs": [
        {
          "output_type": "stream",
          "name": "stdout",
          "text": [
            "Collecting pennylane\n",
            "  Downloading pennylane-0.42.3-py3-none-any.whl.metadata (11 kB)\n",
            "Requirement already satisfied: scipy in /usr/local/lib/python3.12/dist-packages (from pennylane) (1.16.2)\n",
            "Requirement already satisfied: networkx in /usr/local/lib/python3.12/dist-packages (from pennylane) (3.5)\n",
            "Collecting rustworkx>=0.14.0 (from pennylane)\n",
            "  Downloading rustworkx-0.17.1-cp39-abi3-manylinux_2_17_x86_64.manylinux2014_x86_64.whl.metadata (10 kB)\n",
            "Requirement already satisfied: autograd in /usr/local/lib/python3.12/dist-packages (from pennylane) (1.8.0)\n",
            "Collecting appdirs (from pennylane)\n",
            "  Downloading appdirs-1.4.4-py2.py3-none-any.whl.metadata (9.0 kB)\n",
            "Collecting autoray<0.8,>=0.6.11 (from pennylane)\n",
            "  Downloading autoray-0.7.2-py3-none-any.whl.metadata (5.8 kB)\n",
            "Requirement already satisfied: cachetools in /usr/local/lib/python3.12/dist-packages (from pennylane) (5.5.2)\n",
            "Collecting pennylane-lightning>=0.42 (from pennylane)\n",
            "  Downloading pennylane_lightning-0.42.0-cp312-cp312-manylinux_2_28_x86_64.whl.metadata (11 kB)\n",
            "Requirement already satisfied: requests in /usr/local/lib/python3.12/dist-packages (from pennylane) (2.32.4)\n",
            "Requirement already satisfied: tomlkit in /usr/local/lib/python3.12/dist-packages (from pennylane) (0.13.3)\n",
            "Requirement already satisfied: typing_extensions in /usr/local/lib/python3.12/dist-packages (from pennylane) (4.15.0)\n",
            "Requirement already satisfied: packaging in /usr/local/lib/python3.12/dist-packages (from pennylane) (25.0)\n",
            "Collecting diastatic-malt (from pennylane)\n",
            "  Downloading diastatic_malt-2.15.2-py3-none-any.whl.metadata (2.6 kB)\n",
            "Requirement already satisfied: numpy in /usr/local/lib/python3.12/dist-packages (from pennylane) (2.0.2)\n",
            "Collecting scipy-openblas32>=0.3.26 (from pennylane-lightning>=0.42->pennylane)\n",
            "  Downloading scipy_openblas32-0.3.30.0.2-py3-none-manylinux2014_x86_64.manylinux_2_17_x86_64.whl.metadata (57 kB)\n",
            "\u001b[2K     \u001b[90m━━━━━━━━━━━━━━━━━━━━━━━━━━━━━━━━━━━━━━━━\u001b[0m \u001b[32m57.1/57.1 kB\u001b[0m \u001b[31m2.8 MB/s\u001b[0m eta \u001b[36m0:00:00\u001b[0m\n",
            "\u001b[?25hRequirement already satisfied: astunparse in /usr/local/lib/python3.12/dist-packages (from diastatic-malt->pennylane) (1.6.3)\n",
            "Requirement already satisfied: gast in /usr/local/lib/python3.12/dist-packages (from diastatic-malt->pennylane) (0.6.0)\n",
            "Requirement already satisfied: termcolor in /usr/local/lib/python3.12/dist-packages (from diastatic-malt->pennylane) (3.1.0)\n",
            "Requirement already satisfied: charset_normalizer<4,>=2 in /usr/local/lib/python3.12/dist-packages (from requests->pennylane) (3.4.3)\n",
            "Requirement already satisfied: idna<4,>=2.5 in /usr/local/lib/python3.12/dist-packages (from requests->pennylane) (3.10)\n",
            "Requirement already satisfied: urllib3<3,>=1.21.1 in /usr/local/lib/python3.12/dist-packages (from requests->pennylane) (2.5.0)\n",
            "Requirement already satisfied: certifi>=2017.4.17 in /usr/local/lib/python3.12/dist-packages (from requests->pennylane) (2025.10.5)\n",
            "Requirement already satisfied: wheel<1.0,>=0.23.0 in /usr/local/lib/python3.12/dist-packages (from astunparse->diastatic-malt->pennylane) (0.45.1)\n",
            "Requirement already satisfied: six<2.0,>=1.6.1 in /usr/local/lib/python3.12/dist-packages (from astunparse->diastatic-malt->pennylane) (1.17.0)\n",
            "Downloading pennylane-0.42.3-py3-none-any.whl (4.8 MB)\n",
            "\u001b[2K   \u001b[90m━━━━━━━━━━━━━━━━━━━━━━━━━━━━━━━━━━━━━━━━\u001b[0m \u001b[32m4.8/4.8 MB\u001b[0m \u001b[31m55.5 MB/s\u001b[0m eta \u001b[36m0:00:00\u001b[0m\n",
            "\u001b[?25hDownloading autoray-0.7.2-py3-none-any.whl (930 kB)\n",
            "\u001b[2K   \u001b[90m━━━━━━━━━━━━━━━━━━━━━━━━━━━━━━━━━━━━━━━━\u001b[0m \u001b[32m930.8/930.8 kB\u001b[0m \u001b[31m40.7 MB/s\u001b[0m eta \u001b[36m0:00:00\u001b[0m\n",
            "\u001b[?25hDownloading pennylane_lightning-0.42.0-cp312-cp312-manylinux_2_28_x86_64.whl (2.6 MB)\n",
            "\u001b[2K   \u001b[90m━━━━━━━━━━━━━━━━━━━━━━━━━━━━━━━━━━━━━━━━\u001b[0m \u001b[32m2.6/2.6 MB\u001b[0m \u001b[31m80.4 MB/s\u001b[0m eta \u001b[36m0:00:00\u001b[0m\n",
            "\u001b[?25hDownloading rustworkx-0.17.1-cp39-abi3-manylinux_2_17_x86_64.manylinux2014_x86_64.whl (2.2 MB)\n",
            "\u001b[2K   \u001b[90m━━━━━━━━━━━━━━━━━━━━━━━━━━━━━━━━━━━━━━━━\u001b[0m \u001b[32m2.2/2.2 MB\u001b[0m \u001b[31m78.1 MB/s\u001b[0m eta \u001b[36m0:00:00\u001b[0m\n",
            "\u001b[?25hDownloading appdirs-1.4.4-py2.py3-none-any.whl (9.6 kB)\n",
            "Downloading diastatic_malt-2.15.2-py3-none-any.whl (167 kB)\n",
            "\u001b[2K   \u001b[90m━━━━━━━━━━━━━━━━━━━━━━━━━━━━━━━━━━━━━━━━\u001b[0m \u001b[32m167.9/167.9 kB\u001b[0m \u001b[31m14.1 MB/s\u001b[0m eta \u001b[36m0:00:00\u001b[0m\n",
            "\u001b[?25hDownloading scipy_openblas32-0.3.30.0.2-py3-none-manylinux2014_x86_64.manylinux_2_17_x86_64.whl (8.6 MB)\n",
            "\u001b[2K   \u001b[90m━━━━━━━━━━━━━━━━━━━━━━━━━━━━━━━━━━━━━━━━\u001b[0m \u001b[32m8.6/8.6 MB\u001b[0m \u001b[31m1.2 MB/s\u001b[0m eta \u001b[36m0:00:00\u001b[0m\n",
            "\u001b[?25hInstalling collected packages: appdirs, scipy-openblas32, rustworkx, autoray, diastatic-malt, pennylane-lightning, pennylane\n",
            "Successfully installed appdirs-1.4.4 autoray-0.7.2 diastatic-malt-2.15.2 pennylane-0.42.3 pennylane-lightning-0.42.0 rustworkx-0.17.1 scipy-openblas32-0.3.30.0.2\n"
          ]
        }
      ],
      "source": [
        "pip install pennylane"
      ]
    },
    {
      "cell_type": "code",
      "execution_count": 2,
      "metadata": {
        "id": "8HhOXpsUHagI"
      },
      "outputs": [],
      "source": [
        "import pennylane as qml\n",
        "from pennylane import numpy as np"
      ]
    },
    {
      "cell_type": "markdown",
      "metadata": {
        "id": "Xyk42ZD7HagI"
      },
      "source": [
        "## Basis States\n",
        "\n",
        "In PennyLane, and other quantum computing software, we often want to prepare basis states. This is something we will return to again in the future when we study specific cases of quantum circuits, but having some basic introduction to state preparation now seems appropriate since the are simply tensor products of the basis states $|0\\rangle$ and $|1\\rangle$. In particular, we can prepare states like\n",
        "\n",
        "\\begin{align}\n",
        "|00 \\rangle &= |0\\rangle \\otimes |0\\rangle = \\begin{pmatrix} 1\\\\0 \\end{pmatrix} \\otimes \\begin{pmatrix} 1\\\\0 \\end{pmatrix} = \\begin{pmatrix} 1\\\\0\\\\0\\\\0 \\end{pmatrix} \\\\\n",
        "|01 \\rangle &= |0\\rangle \\otimes |1\\rangle = \\begin{pmatrix} 1\\\\0 \\end{pmatrix} \\otimes \\begin{pmatrix} 0\\\\1 \\end{pmatrix} = \\begin{pmatrix} 0\\\\1\\\\0\\\\0 \\end{pmatrix} \\\\\n",
        "|10 \\rangle &= |1\\rangle \\otimes |0\\rangle = \\begin{pmatrix} 0\\\\1 \\end{pmatrix} \\otimes \\begin{pmatrix} 1\\\\0 \\end{pmatrix} = \\begin{pmatrix} 0\\\\0\\\\1\\\\0 \\end{pmatrix} \\\\\n",
        "|11 \\rangle &= |1\\rangle \\otimes |1\\rangle = \\begin{pmatrix} 0\\\\1 \\end{pmatrix} \\otimes \\begin{pmatrix} 0\\\\1 \\end{pmatrix} = \\begin{pmatrix} 0\\\\0\\\\0\\\\1 \\end{pmatrix}\n",
        "\\end{align}"
      ]
    },
    {
      "cell_type": "markdown",
      "metadata": {
        "id": "w2Su38DuHagI"
      },
      "source": [
        "Let's define these in Python"
      ]
    },
    {
      "cell_type": "code",
      "execution_count": 3,
      "metadata": {
        "id": "ygevI_j5HagI"
      },
      "outputs": [],
      "source": [
        "# Define single qubit states spin-up and spin-down\n",
        "u = np.matrix([[1],\n",
        "               [0]])\n",
        "d = np.matrix([[0],\n",
        "               [1]])\n",
        "\n",
        "# Define the basis states:\n",
        "uu = np.kron(u, u)\n",
        "ud = np.kron(u, d)\n",
        "du = np.kron(d, u)\n",
        "dd = np.kron(d, d)"
      ]
    },
    {
      "cell_type": "code",
      "execution_count": 4,
      "metadata": {
        "id": "dNqucXUpHagJ",
        "outputId": "6f8bc18c-e45e-4f30-d89a-a494bf1c0e73",
        "colab": {
          "base_uri": "https://localhost:8080/"
        }
      },
      "outputs": [
        {
          "output_type": "stream",
          "name": "stdout",
          "text": [
            "|00> =\n",
            "[[1]\n",
            " [0]\n",
            " [0]\n",
            " [0]]\n"
          ]
        }
      ],
      "source": [
        "print('|00> =')\n",
        "print(uu)"
      ]
    },
    {
      "cell_type": "code",
      "execution_count": 5,
      "metadata": {
        "id": "_rdwz6sSHagJ",
        "outputId": "1677b59f-a403-42a1-bd3d-85004b6a6b56",
        "colab": {
          "base_uri": "https://localhost:8080/"
        }
      },
      "outputs": [
        {
          "output_type": "stream",
          "name": "stdout",
          "text": [
            "|01> =\n",
            "[[0]\n",
            " [1]\n",
            " [0]\n",
            " [0]]\n"
          ]
        }
      ],
      "source": [
        "print('|01> =')\n",
        "print(ud)"
      ]
    },
    {
      "cell_type": "code",
      "execution_count": 6,
      "metadata": {
        "id": "1Nmbu6V6HagJ",
        "outputId": "d7b8b543-f906-43fa-a900-60b057440fe9",
        "colab": {
          "base_uri": "https://localhost:8080/"
        }
      },
      "outputs": [
        {
          "output_type": "stream",
          "name": "stdout",
          "text": [
            "|10> =\n",
            "[[0]\n",
            " [0]\n",
            " [1]\n",
            " [0]]\n"
          ]
        }
      ],
      "source": [
        "print('|10> =')\n",
        "print(du)"
      ]
    },
    {
      "cell_type": "code",
      "execution_count": 7,
      "metadata": {
        "id": "dv2en7AOHagJ",
        "outputId": "8db965d1-2ca8-4600-d97a-67eed7da03f5",
        "colab": {
          "base_uri": "https://localhost:8080/"
        }
      },
      "outputs": [
        {
          "output_type": "stream",
          "name": "stdout",
          "text": [
            "|11> =\n",
            "[[0]\n",
            " [0]\n",
            " [0]\n",
            " [1]]\n"
          ]
        }
      ],
      "source": [
        "print('|11> =')\n",
        "print(dd)"
      ]
    },
    {
      "cell_type": "markdown",
      "metadata": {
        "id": "iv505lojHagJ"
      },
      "source": [
        "Taking this further, we can define states like:\n",
        "    \n",
        "\\begin{align}\n",
        "|000\\rangle = |0\\rangle \\otimes |0\\rangle \\otimes |0\\rangle = \\begin{pmatrix} 1\\\\0\\\\0\\\\0\\\\0\\\\0\\\\0\\\\0 \\end{pmatrix}\n",
        "\\end{align}\n",
        "\n",
        "\\begin{align}\n",
        "|010\\rangle = |0\\rangle \\otimes |1\\rangle \\otimes |0\\rangle = \\begin{pmatrix} 0\\\\0\\\\1\\\\0\\\\0\\\\0\\\\0\\\\0 \\end{pmatrix}\n",
        "\\end{align}"
      ]
    },
    {
      "cell_type": "markdown",
      "metadata": {
        "id": "G4KkrUEdHagJ"
      },
      "source": [
        "In PennyLane the following code defines a device (quantum computer or simulator) on which to run code. We will use the default simulator for now since the code is very simple and running it on an actual quantum computer is unnecessary. The number of wires is equal to the number of qubits we are using. The number of shots is the number of times we want to run the circuit."
      ]
    },
    {
      "cell_type": "code",
      "execution_count": 8,
      "metadata": {
        "id": "Z-wtsyfNHagJ"
      },
      "outputs": [],
      "source": [
        "dev = qml.device(\"default.qubit\", wires=2, shots=1)"
      ]
    },
    {
      "cell_type": "markdown",
      "metadata": {
        "id": "wY-7NT28HagJ"
      },
      "source": [
        "Now we can define an array that corresponds to the basis state $|00\\rangle$:"
      ]
    },
    {
      "cell_type": "code",
      "execution_count": 9,
      "metadata": {
        "id": "Hd8fqH_CHagJ"
      },
      "outputs": [],
      "source": [
        "uu = np.array([0, 0])"
      ]
    },
    {
      "cell_type": "markdown",
      "metadata": {
        "id": "mHkZVeS6HagJ"
      },
      "source": [
        "We can define a function `circuit()` that defines a quantum circuit."
      ]
    },
    {
      "cell_type": "code",
      "execution_count": 11,
      "metadata": {
        "id": "vrBMXBgxHagJ"
      },
      "outputs": [],
      "source": [
        "def circuit():\n",
        "    qml.BasisState(uu, wires=[0, 1])\n",
        "    return qml.sample(qml.PauliZ(0)), qml.sample(qml.PauliZ(1))"
      ]
    },
    {
      "cell_type": "markdown",
      "metadata": {
        "id": "r1_KH41qHagJ"
      },
      "source": [
        "Now, we define a `qnode` class that runs on the device we have defined and samples the qubits and gives a $+1$ for spin-up and a $-1$ for spin down. This runs a quantum function (circuit) that we have just defined."
      ]
    },
    {
      "cell_type": "code",
      "execution_count": 12,
      "metadata": {
        "id": "fDjsyk0uHagJ",
        "outputId": "f695622e-1348-49e3-dc08-5bf42d519c89",
        "colab": {
          "base_uri": "https://localhost:8080/"
        }
      },
      "outputs": [
        {
          "output_type": "stream",
          "name": "stdout",
          "text": [
            "(array(1.), array(1.))\n"
          ]
        }
      ],
      "source": [
        "@qml.qnode(dev)\n",
        "def circuit():\n",
        "    qml.BasisState(uu, wires=[0, 1])\n",
        "    return qml.sample(qml.PauliZ(0)), qml.sample(qml.PauliZ(1))\n",
        "\n",
        "print(circuit())"
      ]
    },
    {
      "cell_type": "markdown",
      "metadata": {
        "id": "8KvdFIa3HagJ"
      },
      "source": [
        "Since qubits are by default in the spin-up state for any quantum circuit, and since we did not prepare any special initial state or perform any operations on the qubits, we get an expectation value of $+1$ for both when sampling the circuit. The vector above show a $+1$ in the first and second entry meaning it is measuring two spin-up states. Let's define a new state to prepare corresponding to $|01 \\rangle$:"
      ]
    },
    {
      "cell_type": "code",
      "execution_count": 13,
      "metadata": {
        "id": "1dWWz2DGHagJ"
      },
      "outputs": [],
      "source": [
        "ud = np.array([0,1])"
      ]
    },
    {
      "cell_type": "markdown",
      "metadata": {
        "id": "Uaqgy9ZxHagJ"
      },
      "source": [
        "Next, let's define a new `qnode` to sample corresponding to this prepared state:"
      ]
    },
    {
      "cell_type": "code",
      "execution_count": 14,
      "metadata": {
        "id": "ghM_0sr8HagJ",
        "outputId": "976f9d27-c7b6-49e3-92a9-13907c384fe6",
        "colab": {
          "base_uri": "https://localhost:8080/"
        }
      },
      "outputs": [
        {
          "output_type": "stream",
          "name": "stdout",
          "text": [
            "(array(1.), array(-1.))\n"
          ]
        }
      ],
      "source": [
        "@qml.qnode(dev)\n",
        "def circuit():\n",
        "    qml.BasisState(ud, wires=[0, 1])\n",
        "    return qml.sample(qml.PauliZ(0)), qml.sample(qml.PauliZ(1))\n",
        "\n",
        "print(circuit())"
      ]
    },
    {
      "cell_type": "markdown",
      "metadata": {
        "id": "K4qddN3wHagK"
      },
      "source": [
        "As we can see, we get a $+1$ in the first component, corresponding to the spin-up state, and we get a $-1$ in the second component corresponding to the spin-down state. We can also tell PennyLane to perform multiple \"shots\" or samples by defining a new device:"
      ]
    },
    {
      "cell_type": "code",
      "execution_count": 15,
      "metadata": {
        "id": "6pmxy0ZwHagK"
      },
      "outputs": [],
      "source": [
        "dev2 = qml.device(\"default.qubit\", wires=2, shots=10)"
      ]
    },
    {
      "cell_type": "code",
      "execution_count": 17,
      "metadata": {
        "id": "_dsqhvmSHagK",
        "outputId": "d3b33d32-1778-42c7-9a05-b4384c51b1e1",
        "colab": {
          "base_uri": "https://localhost:8080/"
        }
      },
      "outputs": [
        {
          "output_type": "stream",
          "name": "stdout",
          "text": [
            "(array([1., 1., 1., 1., 1., 1., 1., 1., 1., 1.]), array([-1., -1., -1., -1., -1., -1., -1., -1., -1., -1.]))\n"
          ]
        }
      ],
      "source": [
        "@qml.qnode(dev2)\n",
        "def circuit():\n",
        "    qml.BasisState(ud, wires=[0, 1])\n",
        "    return qml.sample(qml.PauliZ(0)), qml.sample(qml.PauliZ(1))\n",
        "\n",
        "print(circuit())"
      ]
    },
    {
      "cell_type": "markdown",
      "metadata": {
        "id": "q8Pl2MFAHagK"
      },
      "source": [
        "This gives us 10 output samples instead of just one. If we define a new array corresponding to the state $|11\\rangle$,"
      ]
    },
    {
      "cell_type": "code",
      "execution_count": 18,
      "metadata": {
        "id": "TulsNUc7HagK"
      },
      "outputs": [],
      "source": [
        "dd = np.array([1,1])"
      ]
    },
    {
      "cell_type": "markdown",
      "metadata": {
        "id": "D3Lu-q8GHagK"
      },
      "source": [
        "We can define a new 'qnode' with the new device we just defined, and we should expect an output vector of\n",
        "\n",
        "\\begin{align}\n",
        "\\begin{pmatrix}\n",
        "-1\\\\-1\n",
        "\\end{pmatrix}\n",
        "\\end{align}\n",
        "\n",
        "ten times, corresponding to the ten samples:"
      ]
    },
    {
      "cell_type": "code",
      "execution_count": 19,
      "metadata": {
        "id": "MRn5G4ZzHagK",
        "outputId": "ac74bfa5-6e74-4e7e-cb62-a4d56491f665",
        "colab": {
          "base_uri": "https://localhost:8080/"
        }
      },
      "outputs": [
        {
          "output_type": "stream",
          "name": "stdout",
          "text": [
            "(array([-1., -1., -1., -1., -1., -1., -1., -1., -1., -1.]), array([-1., -1., -1., -1., -1., -1., -1., -1., -1., -1.]))\n"
          ]
        }
      ],
      "source": [
        "@qml.qnode(dev2)\n",
        "def circuit():\n",
        "    qml.BasisState(dd, wires=[0, 1])\n",
        "    return qml.sample(qml.PauliZ(0)), qml.sample(qml.PauliZ(1))\n",
        "\n",
        "print(circuit())"
      ]
    },
    {
      "cell_type": "markdown",
      "metadata": {
        "id": "f0wBAid-HagK"
      },
      "source": [
        "We will return to this when we discuss measurements and expectation values."
      ]
    },
    {
      "cell_type": "markdown",
      "metadata": {
        "id": "8n289CQBHagK"
      },
      "source": [
        "## Exercises\n",
        "\n",
        "### Write code to compute the following basis states:\n",
        "\n",
        "1. $|000 \\rangle$\n",
        "2. $|001 \\rangle$\n",
        "3. $|010 \\rangle$\n",
        "4. $|011 \\rangle$\n",
        "5. $|100 \\rangle$\n",
        "6. $|101 \\rangle$\n",
        "7. $|110 \\rangle$\n",
        "8. $|111 \\rangle$\n",
        "\n",
        "Now, compute these by hand to verify your code is correct. For example, the first computation will be\n",
        "\n",
        "\\begin{align}\n",
        "\\begin{pmatrix} 1\\\\0 \\end{pmatrix} \\otimes\n",
        "\\begin{pmatrix} 1\\\\0 \\end{pmatrix} \\otimes\n",
        "\\begin{pmatrix} 0\\\\1 \\end{pmatrix}\n",
        "\\end{align}"
      ]
    },
    {
      "cell_type": "code",
      "source": [
        "u = np.matrix([[1],\n",
        "               [0]])\n",
        "d = np.matrix([[0],\n",
        "               [1]])\n",
        "\n",
        "print('|000> =')\n",
        "print(np.kron(np.kron(u, u), u))\n",
        "\n",
        "print('|001> =')\n",
        "print(np.kron(np.kron(u, u), d))\n",
        "\n",
        "print('|010> =')\n",
        "print(np.kron(np.kron(u, d), u))\n",
        "\n",
        "print('|011> =')\n",
        "print(np.kron(np.kron(u, d), d))\n",
        "\n",
        "print('|100> =')\n",
        "print(np.kron(np.kron(d, u), u))\n",
        "\n",
        "print('|101> =')\n",
        "print(np.kron(np.kron(d, u), d))\n",
        "\n",
        "print('|110> =')\n",
        "print(np.kron(np.kron(d, d), u))\n",
        "\n",
        "print('|111> =')\n",
        "print(np.kron(np.kron(d, d), d))"
      ],
      "metadata": {
        "collapsed": true,
        "id": "pRFKTsbRKnKv",
        "outputId": "b991143c-ef78-4fcf-9a86-9abe30d924e5",
        "colab": {
          "base_uri": "https://localhost:8080/"
        }
      },
      "execution_count": 22,
      "outputs": [
        {
          "output_type": "stream",
          "name": "stdout",
          "text": [
            "|000> =\n",
            "[[1]\n",
            " [0]\n",
            " [0]\n",
            " [0]\n",
            " [0]\n",
            " [0]\n",
            " [0]\n",
            " [0]]\n",
            "|001> =\n",
            "[[0]\n",
            " [1]\n",
            " [0]\n",
            " [0]\n",
            " [0]\n",
            " [0]\n",
            " [0]\n",
            " [0]]\n",
            "|010> =\n",
            "[[0]\n",
            " [0]\n",
            " [1]\n",
            " [0]\n",
            " [0]\n",
            " [0]\n",
            " [0]\n",
            " [0]]\n",
            "|011> =\n",
            "[[0]\n",
            " [0]\n",
            " [0]\n",
            " [1]\n",
            " [0]\n",
            " [0]\n",
            " [0]\n",
            " [0]]\n",
            "|100> =\n",
            "[[0]\n",
            " [0]\n",
            " [0]\n",
            " [0]\n",
            " [1]\n",
            " [0]\n",
            " [0]\n",
            " [0]]\n",
            "|101> =\n",
            "[[0]\n",
            " [0]\n",
            " [0]\n",
            " [0]\n",
            " [0]\n",
            " [1]\n",
            " [0]\n",
            " [0]]\n",
            "|110> =\n",
            "[[0]\n",
            " [0]\n",
            " [0]\n",
            " [0]\n",
            " [0]\n",
            " [0]\n",
            " [1]\n",
            " [0]]\n",
            "|111> =\n",
            "[[0]\n",
            " [0]\n",
            " [0]\n",
            " [0]\n",
            " [0]\n",
            " [0]\n",
            " [0]\n",
            " [1]]\n"
          ]
        }
      ]
    },
    {
      "cell_type": "markdown",
      "metadata": {
        "id": "xDw7cAHEHagK"
      },
      "source": [
        "9. Define a defaul device with \"3 wires\" and \"5 shots\".\n",
        "10. Define an array 'uud' for the basis state $|001\\rangle$.\n",
        "11. Now define a `qnode` that will print the samples:\n",
        "\n",
        "> `qml.sample(qml.PauliZ(0))`\n",
        "\n",
        "> `qml.sample(qml.PauliZ(1))`\n",
        "\n",
        "> `qml.sample(qml.PauliZ(2))`\n",
        "\n",
        "12. Run your 'qnode' and verify that you get the output vector\n",
        "\\begin{align}\n",
        "\\begin{pmatrix}\n",
        "1 \\\\ 1 \\\\ -1\n",
        "\\end{pmatrix}\n",
        "\\end{align}\n",
        "\n",
        "five times.\n",
        "\n",
        "13. Try doing this with the other basis states given in Exercises 1-8."
      ]
    },
    {
      "cell_type": "code",
      "source": [
        "dev3 = qml.device(\"default.qubit\", wires=3, shots=5)\n",
        "\n",
        "uud = np.array([0, 0, 1])\n",
        "print(uud)"
      ],
      "metadata": {
        "id": "KspYO4EJLul8",
        "outputId": "5b6a57c4-69a7-431b-8928-4925f8e94824",
        "colab": {
          "base_uri": "https://localhost:8080/"
        }
      },
      "execution_count": 24,
      "outputs": [
        {
          "output_type": "stream",
          "name": "stdout",
          "text": [
            "[0 0 1]\n"
          ]
        }
      ]
    },
    {
      "cell_type": "code",
      "source": [
        "@qml.qnode(dev3)\n",
        "def circuit():\n",
        "  qml.BasisState(uud, wires=[0, 1, 2])\n",
        "  return qml.sample(qml.PauliZ(0)), qml.sample(qml.PauliZ(1)), qml.sample(qml.PauliZ(2))\n",
        "print(circuit())"
      ],
      "metadata": {
        "id": "dMNYGH0EL2dB",
        "outputId": "22ae1137-22c8-4a8b-d3ef-e862f81f93d7",
        "colab": {
          "base_uri": "https://localhost:8080/"
        }
      },
      "execution_count": 25,
      "outputs": [
        {
          "output_type": "stream",
          "name": "stdout",
          "text": [
            "(array([1., 1., 1., 1., 1.]), array([1., 1., 1., 1., 1.]), array([-1., -1., -1., -1., -1.]))\n"
          ]
        }
      ]
    },
    {
      "cell_type": "code",
      "source": [
        "ddd = np.array([1, 1, 1])\n",
        "@qml.qnode(dev3)\n",
        "def circuit():\n",
        "  qml.BasisState(ddd, wires=[0, 1, 2])\n",
        "  return qml.sample(qml.PauliZ(0)), qml.sample(qml.PauliZ(1)), qml.sample(qml.PauliZ(2))\n",
        "print(circuit())"
      ],
      "metadata": {
        "id": "f20eT5VSMJSK",
        "outputId": "1cdc2ecb-3852-405d-e6d6-d96eb25b539f",
        "colab": {
          "base_uri": "https://localhost:8080/"
        }
      },
      "execution_count": 27,
      "outputs": [
        {
          "output_type": "stream",
          "name": "stdout",
          "text": [
            "(array([-1., -1., -1., -1., -1.]), array([-1., -1., -1., -1., -1.]), array([-1., -1., -1., -1., -1.]))\n"
          ]
        }
      ]
    },
    {
      "cell_type": "code",
      "source": [],
      "metadata": {
        "id": "PYAstoSEMyfl"
      },
      "execution_count": null,
      "outputs": []
    }
  ],
  "metadata": {
    "kernelspec": {
      "display_name": "Python 3",
      "language": "python",
      "name": "python3"
    },
    "language_info": {
      "codemirror_mode": {
        "name": "ipython",
        "version": 3
      },
      "file_extension": ".py",
      "mimetype": "text/x-python",
      "name": "python",
      "nbconvert_exporter": "python",
      "pygments_lexer": "ipython3",
      "version": "3.7.3"
    },
    "colab": {
      "provenance": []
    }
  },
  "nbformat": 4,
  "nbformat_minor": 0
}