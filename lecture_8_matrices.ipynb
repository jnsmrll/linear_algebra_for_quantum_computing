{
  "cells": [
    {
      "cell_type": "markdown",
      "metadata": {
        "id": "pEN-e9_bR6Nc"
      },
      "source": [
        "# Matrices"
      ]
    },
    {
      "cell_type": "markdown",
      "metadata": {
        "id": "U6NrARGQR6Nd"
      },
      "source": [
        "## Imports and Dependencies\n",
        "\n",
        "We will primarily be using NumPy in this section."
      ]
    },
    {
      "cell_type": "code",
      "execution_count": 1,
      "metadata": {
        "id": "W_dsLMNxR6Nd"
      },
      "outputs": [],
      "source": [
        "import numpy as np"
      ]
    },
    {
      "cell_type": "markdown",
      "metadata": {
        "id": "IbFqjNzVR6Nd"
      },
      "source": [
        "Matrices form the foundation for quantum gates, which are just operations on qubits that move the points representing states around the Bloch sphere. Matrices are also called operators or quantum gates in the context of quantum computing. They can operate on a single qubit, or on many qubits simultaneously. The matrix operators (or gates) we will be using most are known as *unitary operators* or *unitary matrices*. In this section we will discuss basic matrix algebra and define unitary matrices."
      ]
    },
    {
      "cell_type": "markdown",
      "metadata": {
        "id": "snaFb-jWR6Nd"
      },
      "source": [
        "We have already seen two ways of realizing matrices in Python. Suppose we have the following $2 \\times 2$ matrix\n",
        "\n",
        "\\begin{align}\n",
        "M = \\begin{pmatrix}\n",
        "2-i & -3 \\\\\n",
        "-5i & 2\n",
        "\\end{pmatrix}\n",
        "\\end{align}\n",
        "\n",
        "We can define this matrix as a NumPy array, or as a matrix in Python."
      ]
    },
    {
      "cell_type": "code",
      "execution_count": 2,
      "metadata": {
        "id": "sjppnwHCR6Nd",
        "outputId": "b5f407c0-c7cf-41cf-c7c0-1b054ed36343",
        "colab": {
          "base_uri": "https://localhost:8080/"
        }
      },
      "outputs": [
        {
          "output_type": "stream",
          "name": "stdout",
          "text": [
            "[[ 2.-1.j -3.+0.j]\n",
            " [-0.-5.j  2.+0.j]]\n"
          ]
        }
      ],
      "source": [
        "M = np.array([[2-1j, -3],\n",
        "              [-5j, 2]])\n",
        "\n",
        "print(M)"
      ]
    },
    {
      "cell_type": "markdown",
      "metadata": {
        "id": "X2Sd2a80R6Ne"
      },
      "source": [
        "Since we may want to compute Hermitian conjugates of matrices we will only be using the matrix data structure."
      ]
    },
    {
      "cell_type": "code",
      "execution_count": 3,
      "metadata": {
        "id": "8oX2JTHmR6Ne",
        "outputId": "788345a1-d403-4644-b30d-474d663409bf",
        "colab": {
          "base_uri": "https://localhost:8080/"
        }
      },
      "outputs": [
        {
          "output_type": "stream",
          "name": "stdout",
          "text": [
            "[[ 2.-1.j -3.+0.j]\n",
            " [-0.-5.j  2.+0.j]]\n"
          ]
        }
      ],
      "source": [
        "M = np.matrix([[2-1j, -3],\n",
        "               [-5j, 2]])\n",
        "\n",
        "print(M)"
      ]
    },
    {
      "cell_type": "markdown",
      "metadata": {
        "id": "rfw-6mfdR6Ne"
      },
      "source": [
        "Remember, Hermitian conjugates are given by taking the conjugate transpose of the matrix. This means we compute the complex conjugate of each entry, and then transpose the matrix. Generally, the Hermitian conjugate is denoted by $M^{\\dagger}$."
      ]
    },
    {
      "cell_type": "code",
      "source": [
        "print(M.T)"
      ],
      "metadata": {
        "id": "7WxLa2s3TaSE",
        "outputId": "46dd1042-8792-4802-f1f0-97709761b2ee",
        "colab": {
          "base_uri": "https://localhost:8080/"
        }
      },
      "execution_count": 5,
      "outputs": [
        {
          "output_type": "stream",
          "name": "stdout",
          "text": [
            "[[ 2.-1.j -0.-5.j]\n",
            " [-3.+0.j  2.+0.j]]\n"
          ]
        }
      ]
    },
    {
      "cell_type": "code",
      "source": [
        "print(np.conjugate(M.T))"
      ],
      "metadata": {
        "id": "Ferb6M2BTddp",
        "outputId": "5107e77b-afab-473c-cbb3-1facd106503b",
        "colab": {
          "base_uri": "https://localhost:8080/"
        }
      },
      "execution_count": 6,
      "outputs": [
        {
          "output_type": "stream",
          "name": "stdout",
          "text": [
            "[[ 2.+1.j -0.+5.j]\n",
            " [-3.-0.j  2.-0.j]]\n"
          ]
        }
      ]
    },
    {
      "cell_type": "code",
      "execution_count": 7,
      "metadata": {
        "id": "b4FSq9LSR6Ne",
        "outputId": "82caeb87-fe39-4ec0-b14b-e43cee082179",
        "colab": {
          "base_uri": "https://localhost:8080/"
        }
      },
      "outputs": [
        {
          "output_type": "stream",
          "name": "stdout",
          "text": [
            "[[ 2.+1.j -0.+5.j]\n",
            " [-3.-0.j  2.-0.j]]\n"
          ]
        }
      ],
      "source": [
        "print(M.H)"
      ]
    },
    {
      "cell_type": "markdown",
      "metadata": {
        "id": "2-ZU18KvR6Ne"
      },
      "source": [
        "Let's have a look at another example of a Hermitian conjugate."
      ]
    },
    {
      "cell_type": "code",
      "execution_count": 8,
      "metadata": {
        "id": "oh3mET3VR6Ne",
        "outputId": "b283b51f-60e4-44c4-dfa7-69c3cfd771f9",
        "colab": {
          "base_uri": "https://localhost:8080/"
        }
      },
      "outputs": [
        {
          "output_type": "stream",
          "name": "stdout",
          "text": [
            "[[ 1.-0.j  1.+1.j]\n",
            " [-0.+3.j  1.-0.j]\n",
            " [ 5.-0.j  3.-0.j]\n",
            " [ 2.-0.j  0.-7.j]]\n"
          ]
        }
      ],
      "source": [
        "B = np.matrix([[1, -3j, 5, 2],\n",
        "               [1-1j, 1, 3, 7j]])\n",
        "\n",
        "print(B.H)"
      ]
    },
    {
      "cell_type": "markdown",
      "metadata": {
        "id": "lM7xbXxjR6Ne"
      },
      "source": [
        "This is a $4 \\times 2$ matrix which came from the $2 \\times 4$ matrix $B$. Notice all of its entries have also been conjugated. We can also multiply matrices so long as the dimensions match appropriately. In particular, to multiply two matrices $A$ and $B$, the matrix must be an $n \\times p$ matrix and the matrix $B$ must be a $p \\times m$ matrix. The result is an $n \\times m$ matrix. For example:"
      ]
    },
    {
      "cell_type": "code",
      "execution_count": 9,
      "metadata": {
        "id": "lN8PwNAqR6Ne",
        "outputId": "7fd38d46-4ec7-427a-e2bc-e57c3ca2b5f7",
        "colab": {
          "base_uri": "https://localhost:8080/"
        }
      },
      "outputs": [
        {
          "output_type": "execute_result",
          "data": {
            "text/plain": [
              "matrix([[ -5. +7.j,   1. +0.j, -15.+10.j,   0.-31.j],\n",
              "        [  4. -6.j, -14. -9.j,  18.-25.j,   6. -3.j],\n",
              "        [  9. +4.j,   0.-11.j,  25.+12.j, -18. +0.j]])"
            ]
          },
          "metadata": {},
          "execution_count": 9
        }
      ],
      "source": [
        "# Define a 3x2 matrix:\n",
        "A = np.matrix([[2j, -5],\n",
        "               [3-5j, 1],\n",
        "               [5, 4j]])\n",
        "\n",
        "# Define a 2x4 matrix:\n",
        "B = np.matrix([[1, -3j, 5, 2],\n",
        "               [1-1j, 1, 3, 7j]])\n",
        "\n",
        "#Taking the product of a (3x2) and (2x4) matrix will give a 3x4 matrix:\n",
        "np.dot(A, B)"
      ]
    },
    {
      "cell_type": "markdown",
      "metadata": {
        "id": "3dw48PcIR6Ne"
      },
      "source": [
        "If we are using the matrix definition instead of the array definition we can also multiply the two matrices as follows:"
      ]
    },
    {
      "cell_type": "code",
      "execution_count": 10,
      "metadata": {
        "id": "Ykbr3wrqR6Ne",
        "outputId": "e8c8f209-dd5c-4015-da79-7079a80b0f5e",
        "colab": {
          "base_uri": "https://localhost:8080/"
        }
      },
      "outputs": [
        {
          "output_type": "execute_result",
          "data": {
            "text/plain": [
              "matrix([[ -5. +7.j,   1. +0.j, -15.+10.j,   0.-31.j],\n",
              "        [  4. -6.j, -14. -9.j,  18.-25.j,   6. -3.j],\n",
              "        [  9. +4.j,   0.-11.j,  25.+12.j, -18. +0.j]])"
            ]
          },
          "metadata": {},
          "execution_count": 10
        }
      ],
      "source": [
        "A*B"
      ]
    },
    {
      "cell_type": "markdown",
      "metadata": {
        "id": "2I8QBmJfR6Ne"
      },
      "source": [
        "If we define the two matrices as arrays, this will not work and will return an error. We won't often be adding and subtracting matrices in the context of quantum computing but these operations are well defined for matrices of the same size. The Python code is exactly what you would expect it to be. Let's define two matrices of the same size."
      ]
    },
    {
      "cell_type": "code",
      "execution_count": 11,
      "metadata": {
        "id": "J41wU2d-R6Ne"
      },
      "outputs": [],
      "source": [
        "M = np.matrix([[1, 2, 3],\n",
        "               [1j, 2j, 3j]])\n",
        "\n",
        "N = np.matrix([[2, 4, 6],\n",
        "               [-2j, -4j, -6j]])"
      ]
    },
    {
      "cell_type": "code",
      "execution_count": 12,
      "metadata": {
        "id": "kcb8e5swR6Ne",
        "outputId": "5910dffc-1adf-4406-b08c-20a0b259bdfb",
        "colab": {
          "base_uri": "https://localhost:8080/"
        }
      },
      "outputs": [
        {
          "output_type": "execute_result",
          "data": {
            "text/plain": [
              "matrix([[3.+0.j, 6.+0.j, 9.+0.j],\n",
              "        [0.-1.j, 0.-2.j, 0.-3.j]])"
            ]
          },
          "metadata": {},
          "execution_count": 12
        }
      ],
      "source": [
        "M+N"
      ]
    },
    {
      "cell_type": "code",
      "execution_count": 13,
      "metadata": {
        "id": "U6kWZqFaR6Nf",
        "outputId": "8978bea3-060e-4e30-805e-8663187904d4",
        "colab": {
          "base_uri": "https://localhost:8080/"
        }
      },
      "outputs": [
        {
          "output_type": "execute_result",
          "data": {
            "text/plain": [
              "matrix([[-1.+0.j, -2.+0.j, -3.+0.j],\n",
              "        [ 0.+3.j,  0.+6.j,  0.+9.j]])"
            ]
          },
          "metadata": {},
          "execution_count": 13
        }
      ],
      "source": [
        "M-N"
      ]
    },
    {
      "cell_type": "markdown",
      "metadata": {
        "id": "MUDKp14AR6Nf"
      },
      "source": [
        "We can also multiply matrices by scalars."
      ]
    },
    {
      "cell_type": "code",
      "execution_count": 14,
      "metadata": {
        "id": "-dG5XOTlR6Nf",
        "outputId": "ab99c98a-26b7-475c-ad2e-edf19ae30623",
        "colab": {
          "base_uri": "https://localhost:8080/"
        }
      },
      "outputs": [
        {
          "output_type": "execute_result",
          "data": {
            "text/plain": [
              "matrix([[3.+0.j, 6.+0.j, 9.+0.j],\n",
              "        [0.+3.j, 0.+6.j, 0.+9.j]])"
            ]
          },
          "metadata": {},
          "execution_count": 14
        }
      ],
      "source": [
        "3*M"
      ]
    },
    {
      "cell_type": "markdown",
      "metadata": {
        "id": "qj5S88ngR6Nf"
      },
      "source": [
        "## Exercises\n",
        "\n",
        "#### Define the following five matrices in Python:\n",
        "\n",
        "\\begin{align}\n",
        "I = \\begin{pmatrix} 1&0 \\\\ 0&1 \\end{pmatrix}, \\quad\n",
        "X = \\begin{pmatrix} 0&1 \\\\ 1&0 \\end{pmatrix}, \\quad\n",
        "Y = \\begin{pmatrix} 0&i \\\\ -i&0 \\end{pmatrix}, \\quad\n",
        "Z = \\begin{pmatrix} 1&0 \\\\ 0&-1 \\end{pmatrix}, \\quad\n",
        "H = \\frac{1}{\\sqrt{2}} \\begin{pmatrix} 1&1 \\\\ 1&-1 \\end{pmatrix}\n",
        "\\end{align}\n",
        "\n",
        "These are five of the most common single qubit gates used in quantum computing, and they will be used repeatedly."
      ]
    },
    {
      "cell_type": "code",
      "source": [
        "I = np.matrix([[1, 0],[0, 1]])\n",
        "X = np.matrix([[0, 1],[1, 0]])\n",
        "Y = np.matrix([[0, 1j],[-1j, 0]])\n",
        "Z = np.matrix([[1, 0],[0, -1]])\n",
        "H = (1/np.sqrt(2))*np.matrix([[1, 1], [1, -1]])"
      ],
      "metadata": {
        "id": "qtVHovnRUbb8"
      },
      "execution_count": 17,
      "outputs": []
    },
    {
      "cell_type": "markdown",
      "metadata": {
        "id": "HDot7wO_R6Nf"
      },
      "source": [
        "#### Write Python code to compute the following matrix multiplications:\n",
        "\n",
        "1. $XY$\n",
        "2. $YX$\n",
        "3. $YZ$\n",
        "4. $ZY$\n",
        "5. $HX$\n",
        "6. $YH$\n",
        "7. $XYZ$\n",
        "8. $YZX$\n",
        "9. $ZXY$\n",
        "10. $XHY$"
      ]
    },
    {
      "cell_type": "code",
      "source": [
        "print(X*Y)\n",
        "print(Y*X)\n",
        "print(Y*Z)\n",
        "print(Z*Y)\n",
        "print(H*X)\n",
        "print(Y*H)\n",
        "print(X*Y*Z)\n",
        "print(Y*Z*X)\n",
        "print(Z*X*Y)\n",
        "print(X*H*Y)"
      ],
      "metadata": {
        "id": "KAUGpmiEU8L2",
        "outputId": "50056ea2-c3e8-42d5-a2ad-dc5832f9c01e",
        "colab": {
          "base_uri": "https://localhost:8080/"
        }
      },
      "execution_count": 19,
      "outputs": [
        {
          "output_type": "stream",
          "name": "stdout",
          "text": [
            "[[0.-1.j 0.+0.j]\n",
            " [0.+0.j 0.+1.j]]\n",
            "[[0.+1.j 0.+0.j]\n",
            " [0.+0.j 0.-1.j]]\n",
            "[[0.+0.j 0.-1.j]\n",
            " [0.-1.j 0.+0.j]]\n",
            "[[0.+0.j 0.+1.j]\n",
            " [0.+1.j 0.+0.j]]\n",
            "[[ 0.70710678  0.70710678]\n",
            " [-0.70710678  0.70710678]]\n",
            "[[0.+0.70710678j 0.-0.70710678j]\n",
            " [0.-0.70710678j 0.-0.70710678j]]\n",
            "[[0.-1.j 0.+0.j]\n",
            " [0.+0.j 0.-1.j]]\n",
            "[[0.-1.j 0.+0.j]\n",
            " [0.+0.j 0.-1.j]]\n",
            "[[0.-1.j 0.+0.j]\n",
            " [0.+0.j 0.-1.j]]\n",
            "[[0.+0.70710678j 0.+0.70710678j]\n",
            " [0.-0.70710678j 0.+0.70710678j]]\n"
          ]
        }
      ]
    },
    {
      "cell_type": "code",
      "source": [],
      "metadata": {
        "id": "TGJ3b3mfVA5U"
      },
      "execution_count": null,
      "outputs": []
    }
  ],
  "metadata": {
    "kernelspec": {
      "display_name": "Python 3",
      "language": "python",
      "name": "python3"
    },
    "language_info": {
      "codemirror_mode": {
        "name": "ipython",
        "version": 3
      },
      "file_extension": ".py",
      "mimetype": "text/x-python",
      "name": "python",
      "nbconvert_exporter": "python",
      "pygments_lexer": "ipython3",
      "version": "3.7.3"
    },
    "colab": {
      "provenance": []
    }
  },
  "nbformat": 4,
  "nbformat_minor": 0
}