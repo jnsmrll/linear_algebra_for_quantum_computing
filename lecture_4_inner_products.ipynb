{
  "cells": [
    {
      "cell_type": "markdown",
      "metadata": {
        "id": "TM0VTaSfjL3c"
      },
      "source": [
        "# Inner Products and Norms of Vectors"
      ]
    },
    {
      "cell_type": "markdown",
      "metadata": {
        "id": "LOmHdvPBjL3d"
      },
      "source": [
        "## Importing NumPy\n",
        "\n",
        "As usual, we will need to import NumPy"
      ]
    },
    {
      "cell_type": "code",
      "execution_count": 1,
      "metadata": {
        "id": "BM4lal0ljL3d"
      },
      "outputs": [],
      "source": [
        "import numpy as np"
      ]
    },
    {
      "cell_type": "markdown",
      "metadata": {
        "id": "QG4iqzSmjL3e"
      },
      "source": [
        "## Introduction\n",
        "\n",
        "The most important vectors we will encounter will be $2$-dimensional complex vector which are of length $1$. In this section we will define the **inner product** of two vectors, and the **norm** (length) of a vector which is derived from the inner product of the vector with itself. The vectors of length $1$ are sometimes referred to as **unit vectors**. We will discuss complex unit vectors in $2$-dimensional space $\\mathbb{C}^2$ and how they relate to qubits. This will lead to a discussion of the **Bloch sphere** which will be a useful way of understanding qubits and how quantum gates act on them.\n",
        "\n",
        "\n",
        "### Inner Products\n",
        "**Inner Products** are a more general case of the **dot-product**, but for most of our purposes, they can be thought of as the same thing. The most basic case of an inner product and the one we will use the most often can be thought of as the product of a row vector and a column vector of the same dimension:\n",
        "\n",
        "\\begin{align} \\langle A| = \\begin{pmatrix}\n",
        "a_1, & a_2, & \\cdots, & a_n\n",
        "\\end{pmatrix}, \\quad \\quad\n",
        "|B\\rangle = \\begin{pmatrix}\n",
        "b_1 \\\\ b_2 \\\\ \\vdots \\\\ b_n\n",
        "\\end{pmatrix} \\end{align}\n",
        "\n",
        "Taking the inner product of $\\langle A|$ and $|B\\rangle$ gives the following:\n",
        "\n",
        "\\begin{align} \\langle A| B \\rangle &= \\begin{pmatrix}\n",
        "a_1, & a_2, & \\cdots, & a_n\n",
        "\\end{pmatrix}\n",
        "\\begin{pmatrix}\n",
        "b_1 \\\\ b_2 \\\\ \\vdots \\\\ b_n\n",
        "\\end{pmatrix}\\\\\n",
        "&=\n",
        "a_1b_1 + a_2b_2 + \\cdots + a_nb_n\\\\\n",
        "&= \\sum_{i=1}^n a_ib_i\n",
        "\\end{align}"
      ]
    },
    {
      "cell_type": "markdown",
      "metadata": {
        "id": "ZxNh5U2_jL3e"
      },
      "source": [
        "As a basic example, take the inner product of the following $2$-dimensional vectors,\n",
        "\n",
        "\n",
        "\\begin{align} \\langle A| = \\begin{pmatrix}\n",
        "3i, & 2\n",
        "\\end{pmatrix}, \\quad \\quad |B\\rangle = \\begin{pmatrix}\n",
        "5+2i \\\\ 1-i\n",
        "\\end{pmatrix} \\end{align}\n",
        "\n",
        "as follows:\n",
        "\n",
        "\\begin{align}\n",
        "\\langle A| B \\rangle = \\begin{pmatrix}\n",
        "3i, & 2\n",
        "\\end{pmatrix}\n",
        "\\begin{pmatrix}\n",
        "5+2i \\\\ 1-i\n",
        "\\end{pmatrix} &=\n",
        "3i(5+2i) + 2(1-i)\\\\\n",
        "&= 15i-6+2-2i\\\\\n",
        "&= -4+13i\n",
        "\\end{align}"
      ]
    },
    {
      "cell_type": "markdown",
      "metadata": {
        "id": "zP3SB2PSjL3e"
      },
      "source": [
        "In order to define a complex vector so that we can take its conjugate transpose, also called the **Hermitian conjugate**, we must define it as a **matrix**. So, suppose we have the following column vector (ket-vector):\n",
        "\n",
        "\\begin{align}\n",
        "|A\\rangle = \\begin{pmatrix} 1-i \\\\ 3 \\\\ 2i \\\\ 5+i \\end{pmatrix}\n",
        "\\end{align}\n",
        "\n",
        "Then of course its **Hermitian conjugate** would be the bra-vector\n",
        "\n",
        "\\begin{align}\n",
        "\\langle A| = \\begin{pmatrix}1+i, & 3, & -2i, & 5-i \\end{pmatrix}\n",
        "\\end{align}\n",
        "\n",
        "Now, in Python, we must remember to use \"$j$\" instead of $\"i\"$ for the imaginary unit and we must define the $4 \\times 1$-matrix:"
      ]
    },
    {
      "cell_type": "code",
      "execution_count": 2,
      "metadata": {
        "id": "SpEbkElEjL3e",
        "outputId": "bfd0dab4-241c-4b6d-d2ed-b8a70d5495f6",
        "colab": {
          "base_uri": "https://localhost:8080/"
        }
      },
      "outputs": [
        {
          "output_type": "execute_result",
          "data": {
            "text/plain": [
              "matrix([[1.+1.j, 3.-0.j, 0.-2.j, 5.-1.j]])"
            ]
          },
          "metadata": {},
          "execution_count": 2
        }
      ],
      "source": [
        "# Define the 4x1 matrix version of a column vector (instead of using the np.array() version):\n",
        "A = np.matrix([[1-1j],\n",
        "               [3],\n",
        "               [2j],\n",
        "               [5+1j]])\n",
        "\n",
        "# Compute the Hermitian Conjugate:\n",
        "A.H"
      ]
    },
    {
      "cell_type": "markdown",
      "metadata": {
        "id": "PnILUXM5jL3f"
      },
      "source": [
        "Now, to compute the inner product $ \\langle A|A \\rangle $ we can simple multiply the two matrix versions just computed:"
      ]
    },
    {
      "cell_type": "code",
      "execution_count": 3,
      "metadata": {
        "id": "PWNpSImtjL3f",
        "outputId": "35e4a2df-004b-42d3-ddc4-b169191be49a",
        "colab": {
          "base_uri": "https://localhost:8080/"
        }
      },
      "outputs": [
        {
          "output_type": "execute_result",
          "data": {
            "text/plain": [
              "matrix([[41.+0.j]])"
            ]
          },
          "metadata": {},
          "execution_count": 3
        }
      ],
      "source": [
        "np.dot(A.H, A)"
      ]
    },
    {
      "cell_type": "markdown",
      "metadata": {
        "id": "tVSKjFgijL3f"
      },
      "source": [
        "Let's define another $4$-dimensional complex row vector $\\langle B|$:\n",
        "\n",
        "\\begin{align}\n",
        "\\langle B| = \\begin{pmatrix}\n",
        "-3i, & 2+2i, & -6i, & -7\n",
        "\\end{pmatrix}\n",
        "\\end{align}\n",
        "\n",
        "Once we have defined this bra-vector, let's compute the following inner products:\n",
        "\n",
        "\\begin{align}\n",
        "\\langle B|A \\rangle, \\quad \\langle B|B \\rangle, \\quad \\langle A|B \\rangle.\n",
        "\\end{align}"
      ]
    },
    {
      "cell_type": "code",
      "execution_count": 4,
      "metadata": {
        "id": "GkQRiJArjL3f",
        "outputId": "96942b05-016f-4771-ee3e-ff33ba222ce6",
        "colab": {
          "base_uri": "https://localhost:8080/"
        }
      },
      "outputs": [
        {
          "output_type": "execute_result",
          "data": {
            "text/plain": [
              "matrix([[-0.+3.j],\n",
              "        [ 2.-2.j],\n",
              "        [-0.+6.j],\n",
              "        [-7.-0.j]])"
            ]
          },
          "metadata": {},
          "execution_count": 4
        }
      ],
      "source": [
        "# Define B as a 1x4 matrix\n",
        "B = np.matrix([[-3j, 2+2j, -6j, -7]])\n",
        "\n",
        "#Compute the Hermitian Conjugate of B, which is a ket-vector\n",
        "B.H"
      ]
    },
    {
      "cell_type": "code",
      "execution_count": 5,
      "metadata": {
        "id": "ttUm_qY8jL3f",
        "outputId": "c3091e26-07a5-41a5-b905-381af17d9714",
        "colab": {
          "base_uri": "https://localhost:8080/"
        }
      },
      "outputs": [
        {
          "output_type": "execute_result",
          "data": {
            "text/plain": [
              "matrix([[-20.-4.j]])"
            ]
          },
          "metadata": {},
          "execution_count": 5
        }
      ],
      "source": [
        "# Compute <B|A>\n",
        "np.dot(B,A)"
      ]
    },
    {
      "cell_type": "code",
      "execution_count": 6,
      "metadata": {
        "id": "3Cej1sfrjL3f",
        "outputId": "296a0114-b672-42f8-c751-eec0e15c5fec",
        "colab": {
          "base_uri": "https://localhost:8080/"
        }
      },
      "outputs": [
        {
          "output_type": "execute_result",
          "data": {
            "text/plain": [
              "matrix([[102.+0.j]])"
            ]
          },
          "metadata": {},
          "execution_count": 6
        }
      ],
      "source": [
        "# Compute <B|B>\n",
        "np.dot(B, B.H)"
      ]
    },
    {
      "cell_type": "code",
      "source": [
        "np.dot(B.H, B)"
      ],
      "metadata": {
        "id": "UjR0tXI2lCu7",
        "outputId": "a2532cce-23cb-4640-fa7f-f338ece4f00a",
        "colab": {
          "base_uri": "https://localhost:8080/"
        }
      },
      "execution_count": 8,
      "outputs": [
        {
          "output_type": "execute_result",
          "data": {
            "text/plain": [
              "matrix([[  9. +0.j,  -6. +6.j,  18. +0.j,   0.-21.j],\n",
              "        [ -6. -6.j,   8. +0.j, -12.-12.j, -14.+14.j],\n",
              "        [ 18. +0.j, -12.+12.j,  36. +0.j,   0.-42.j],\n",
              "        [  0.+21.j, -14.-14.j,   0.+42.j,  49. +0.j]])"
            ]
          },
          "metadata": {},
          "execution_count": 8
        }
      ]
    },
    {
      "cell_type": "code",
      "execution_count": 9,
      "metadata": {
        "id": "umYnXjXCjL3f",
        "outputId": "fd9120e0-cb3b-4604-9b46-ad0525f22cbe",
        "colab": {
          "base_uri": "https://localhost:8080/"
        }
      },
      "outputs": [
        {
          "output_type": "execute_result",
          "data": {
            "text/plain": [
              "matrix([[-20.+4.j]])"
            ]
          },
          "metadata": {},
          "execution_count": 9
        }
      ],
      "source": [
        "# Compute <A|B>\n",
        "np.dot(A.H, B.H)"
      ]
    },
    {
      "cell_type": "markdown",
      "metadata": {
        "id": "jurjHOUAjL3f"
      },
      "source": [
        "There is a different kind of product on two vectors which we will cover later called the **[outer product](https://en.wikipedia.org/wiki/Outer_product)**. The outer product is a specific case of the tensor product and is written in this case by $ |A\\rangle \\langle A|$. It is important to make this distinction now and note that the two **are not the same**. The **inner product** always yields a number, which can be complex valued if the two vectors are complex valued. The **outer product** in general gives a **matrix**."
      ]
    },
    {
      "cell_type": "code",
      "execution_count": 10,
      "metadata": {
        "id": "RW4eGaq0jL3g",
        "outputId": "1139e3b9-c3b6-4503-dff1-df6486defa1a",
        "colab": {
          "base_uri": "https://localhost:8080/"
        }
      },
      "outputs": [
        {
          "output_type": "execute_result",
          "data": {
            "text/plain": [
              "matrix([[ 2. +0.j,  3. -3.j, -2. -2.j,  4. -6.j],\n",
              "        [ 3. +3.j,  9. +0.j,  0. -6.j, 15. -3.j],\n",
              "        [-2. +2.j,  0. +6.j,  4. +0.j,  2.+10.j],\n",
              "        [ 4. +6.j, 15. +3.j,  2.-10.j, 26. +0.j]])"
            ]
          },
          "metadata": {},
          "execution_count": 10
        }
      ],
      "source": [
        "np.dot(A, A.H)"
      ]
    },
    {
      "cell_type": "markdown",
      "metadata": {
        "id": "8Yq5CDM_jL3g"
      },
      "source": [
        "For the more adventurous readers who understand how to multiply matrices, and to prepare for future computations where matrices are involved, we will compute a more general \"inner product\". If this does not make any sense to you and matrix multiplication is a foreign concept, we will discuss matrix multiplication in this chapter as a refresher, but now might be a good time to refresh your memory on how to multiply matrices if it is unfamiliar. When we discuss \\emph{measurements} and \\emph{expectation values} we will need to consider the case when there is a matrix in between the bra- and ket-vector. Take for example the Pauli-Z matrix, which we will discuss more later on:\n",
        "\n",
        "\n",
        "\\begin{align} Z = \\begin{pmatrix}\n",
        "1 & 0 \\\\\n",
        "0 & -1\n",
        "\\end{pmatrix} \\end{align}\n",
        "\n",
        "Now take the following bra-vector and ket-vector\n",
        "\n",
        "\n",
        "\\begin{align} \\langle A| = \\begin{pmatrix}\n",
        "i/\\sqrt{2}, & -i/\\sqrt{2}\n",
        "\\end{pmatrix}, \\quad \\quad |A\\rangle = \\begin{pmatrix}\n",
        "-i/\\sqrt{2} \\\\ i/\\sqrt{2}\n",
        "\\end{pmatrix} \\end{align}"
      ]
    },
    {
      "cell_type": "markdown",
      "metadata": {
        "id": "IzApVTqojL3g"
      },
      "source": [
        "Now, we can compute the following variation on the inner product\n",
        "\n",
        "\\begin{align}\n",
        "\\langle A| Z |A \\rangle &=\n",
        "\\begin{pmatrix}\n",
        "i/\\sqrt{2}, & -i/\\sqrt{2}\n",
        "\\end{pmatrix}\n",
        "\\begin{pmatrix}\n",
        "1 & 0 \\\\\n",
        "0 & -1\n",
        "\\end{pmatrix}\n",
        "\\begin{pmatrix}\n",
        "-i/\\sqrt{2} \\\\ i/\\sqrt{2}\n",
        "\\end{pmatrix} \\\\\n",
        "&= \\begin{pmatrix}\n",
        "i/\\sqrt{2}, & -i/\\sqrt{2}\n",
        "\\end{pmatrix}\n",
        "\\begin{pmatrix}\n",
        "-i/\\sqrt{2} \\\\ -i/\\sqrt{2}\n",
        "\\end{pmatrix} \\\\\n",
        "&= 1/2 - 1/2 \\\\\n",
        "&= 0\n",
        "\\end{align}\n",
        "\n",
        "We will encounter such calculations many more times when we discuss measurements and expectations. If this is a little confusing, it is not important to worry too much about it just yet. We will cover matrix multiplication shortly, and later we will discuss measurements and expectation values, at which point we should be comfortable computing more general version of this strange \"inner product\"."
      ]
    },
    {
      "cell_type": "markdown",
      "metadata": {
        "id": "AfcWz5h2jL3g"
      },
      "source": [
        "## Exercises\n",
        "\n",
        "1. Compute the  following inner product by hand:\n",
        "    \n",
        "    $\\begin{pmatrix}\n",
        "    2, & 3i\n",
        "    \\end{pmatrix}\n",
        "    \\begin{pmatrix}\n",
        "    1+i \\\\ 4\n",
        "    \\end{pmatrix}$\n",
        "    \n",
        "2. Write Python code to compute the previous inner product.\n",
        "3. Compute the following inner product by hand:\n",
        "\n",
        "    $ \\begin{pmatrix}\n",
        "    3i, & 1+2i, & 4, & 2i\n",
        "    \\end{pmatrix}\n",
        "    \\begin{pmatrix}\n",
        "    5 \\\\ 1-2i \\\\ -3 \\\\ -i/2\n",
        "    \\end{pmatrix} $\n",
        "    \n",
        "5. Write Python code to compute the previous inner product.\n",
        "6. For the more adventurous who understand how to multiply matrices, and to prepare for future computations where matrices are involved, compute the following more general \"inner product\":\n",
        "\n",
        "\\begin{align}\n",
        "\\begin{pmatrix}1/\\sqrt{2}, & -1/\\sqrt{2} \\end{pmatrix}\n",
        "\\begin{pmatrix} 1&0\\\\0&-1 \\end{pmatrix}\n",
        "\\begin{pmatrix}1/\\sqrt{2}\\\\ -1/\\sqrt{2} \\end{pmatrix}\n",
        "\\end{align}"
      ]
    },
    {
      "cell_type": "code",
      "source": [
        "# Inner product is 2 + 14j"
      ],
      "metadata": {
        "id": "WU6Onk1QqulJ"
      },
      "execution_count": 14,
      "outputs": []
    },
    {
      "cell_type": "code",
      "source": [
        "A = np.matrix([[2, 3j]])\n",
        "B = np.matrix([[1 + 1j], [4]])\n",
        "np.dot(A,B)"
      ],
      "metadata": {
        "id": "ZrUwt5jFrOeH",
        "outputId": "361aa5d0-2b1d-4287-d8c8-57dadb27f34d",
        "colab": {
          "base_uri": "https://localhost:8080/"
        }
      },
      "execution_count": 15,
      "outputs": [
        {
          "output_type": "execute_result",
          "data": {
            "text/plain": [
              "matrix([[2.+14.j]])"
            ]
          },
          "metadata": {},
          "execution_count": 15
        }
      ]
    },
    {
      "cell_type": "code",
      "source": [
        "# Inner product is -6 + 15j"
      ],
      "metadata": {
        "id": "ep7oLSlDtcM1"
      },
      "execution_count": null,
      "outputs": []
    },
    {
      "cell_type": "code",
      "source": [
        "C = np.matrix([[3j, 1+2j, 4, 2j]])\n",
        "D = np.matrix([[5], [1-2j], [-3], [-1j/2]])\n",
        "np.dot(C,D)"
      ],
      "metadata": {
        "id": "cHKixcSIrtIs",
        "outputId": "4aca513a-6ec3-4a22-bd3d-19d9b5e0c6eb",
        "colab": {
          "base_uri": "https://localhost:8080/"
        }
      },
      "execution_count": 16,
      "outputs": [
        {
          "output_type": "execute_result",
          "data": {
            "text/plain": [
              "matrix([[-6.+15.j]])"
            ]
          },
          "metadata": {},
          "execution_count": 16
        }
      ]
    },
    {
      "cell_type": "code",
      "source": [
        "# Inner product is 0\n",
        "E = np.matrix([[1/np.sqrt(2), -1/np.sqrt(2)]])\n",
        "F = np.matrix([[1, 0], [0, -1]])\n",
        "G = np.matrix([[1/np.sqrt(2)], [-1/np.sqrt(2)]])\n",
        "np.dot(E, np.dot(F, G))"
      ],
      "metadata": {
        "id": "JD41znT8s0ax",
        "outputId": "4b52d5cd-6f87-47b0-a90a-9386d1068606",
        "colab": {
          "base_uri": "https://localhost:8080/"
        }
      },
      "execution_count": 17,
      "outputs": [
        {
          "output_type": "execute_result",
          "data": {
            "text/plain": [
              "matrix([[0.]])"
            ]
          },
          "metadata": {},
          "execution_count": 17
        }
      ]
    },
    {
      "cell_type": "code",
      "source": [],
      "metadata": {
        "id": "XSqHZK0luLrZ"
      },
      "execution_count": null,
      "outputs": []
    }
  ],
  "metadata": {
    "kernelspec": {
      "display_name": "Python 3",
      "language": "python",
      "name": "python3"
    },
    "language_info": {
      "codemirror_mode": {
        "name": "ipython",
        "version": 3
      },
      "file_extension": ".py",
      "mimetype": "text/x-python",
      "name": "python",
      "nbconvert_exporter": "python",
      "pygments_lexer": "ipython3",
      "version": "3.7.3"
    },
    "colab": {
      "provenance": []
    }
  },
  "nbformat": 4,
  "nbformat_minor": 0
}