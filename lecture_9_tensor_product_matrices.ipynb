{
  "cells": [
    {
      "cell_type": "markdown",
      "metadata": {
        "id": "ArudbV9VVOej"
      },
      "source": [
        "# Tensor Products of Matrices"
      ]
    },
    {
      "cell_type": "markdown",
      "metadata": {
        "id": "EG1uWx5VVOek"
      },
      "source": [
        "## Imports\n",
        "\n",
        "As usual, we will need NumPy. So, let's import it now."
      ]
    },
    {
      "cell_type": "code",
      "execution_count": 1,
      "metadata": {
        "id": "fpSO5bKAVOek"
      },
      "outputs": [],
      "source": [
        "import numpy as np"
      ]
    },
    {
      "cell_type": "markdown",
      "metadata": {
        "id": "Sqk2QcmwVOel"
      },
      "source": [
        "In this section we will discuss how to take tensor products of matrices in order to later build quantum gates that operate on many qubits at once. Understanding the basics of tensor products of matrices is fundamental to understanding quantum logic gates and quantum circuits. For the tensor product of two $2 \\times 2$ matrices, the general rule is as follows:"
      ]
    },
    {
      "cell_type": "markdown",
      "metadata": {
        "id": "5UK9kAakVOel"
      },
      "source": [
        "\\begin{align}\n",
        "\\begin{pmatrix}\n",
        "a & b \\\\\n",
        "c & d\n",
        "\\end{pmatrix} \\otimes\n",
        "\\begin{pmatrix}\n",
        "x & y \\\\\n",
        "z & w\n",
        "\\end{pmatrix} =\n",
        "\\begin{pmatrix}\n",
        "a \\begin{pmatrix}\n",
        "x & y \\\\\n",
        "z & w\n",
        "\\end{pmatrix} & b \\begin{pmatrix}\n",
        "x & y \\\\\n",
        "z & w\n",
        "\\end{pmatrix} \\\\\n",
        "c \\begin{pmatrix}\n",
        "x & y \\\\\n",
        "z & w\n",
        "\\end{pmatrix} & d \\begin{pmatrix}\n",
        "x & y \\\\\n",
        "z & w\n",
        "\\end{pmatrix}\n",
        "\\end{pmatrix} =\n",
        "\\begin{pmatrix}\n",
        "ax & ay & bx & by \\\\\n",
        "az & aw & bz & bw \\\\\n",
        "cx & cy & dx & dy \\\\\n",
        "cz & cw & dz & dw\n",
        "\\end{pmatrix}\n",
        "\\end{align}"
      ]
    },
    {
      "cell_type": "markdown",
      "metadata": {
        "id": "nGN7QaWrVOel"
      },
      "source": [
        "Here is a basic numerical example:\n",
        "\n",
        "\\begin{align}\n",
        "\\begin{pmatrix}\n",
        "2 & 3 \\\\\n",
        "6 & 1\n",
        "\\end{pmatrix} \\otimes\n",
        "\\begin{pmatrix}\n",
        "7 & 10 \\\\\n",
        "9 & 4\n",
        "\\end{pmatrix} =\n",
        "\\begin{pmatrix}\n",
        "2 \\begin{pmatrix}\n",
        "7 & 10 \\\\\n",
        "9 & 4\n",
        "\\end{pmatrix}& 3\\begin{pmatrix}\n",
        "7 & 10 \\\\\n",
        "9 & 4\n",
        "\\end{pmatrix} \\\\\n",
        "6\\begin{pmatrix}\n",
        "7 & 10 \\\\\n",
        "9 & 4\n",
        "\\end{pmatrix} & 1\\begin{pmatrix}\n",
        "7 & 10 \\\\\n",
        "9 & 4\n",
        "\\end{pmatrix}\n",
        "\\end{pmatrix} =\n",
        "\\begin{pmatrix}\n",
        "14 & 20 & 21 & 30 \\\\\n",
        "18 & 8 & 27 & 12 \\\\\n",
        "42 & 60 & 7 & 10 \\\\\n",
        "54 & 24 & 9 & 4\n",
        "\\end{pmatrix}\n",
        "\\end{align}"
      ]
    },
    {
      "cell_type": "markdown",
      "metadata": {
        "id": "zEok1hVxVOel"
      },
      "source": [
        "We can again use the 'np.kron()' function to perform this computation in Python, just as we did for qubit state vectors."
      ]
    },
    {
      "cell_type": "code",
      "execution_count": 2,
      "metadata": {
        "id": "2PC8klPoVOel",
        "outputId": "a56ea200-6d14-4a37-c64b-a71974b48359",
        "colab": {
          "base_uri": "https://localhost:8080/"
        }
      },
      "outputs": [
        {
          "output_type": "execute_result",
          "data": {
            "text/plain": [
              "matrix([[14, 20, 21, 30],\n",
              "        [18,  8, 27, 12],\n",
              "        [42, 60,  7, 10],\n",
              "        [54, 24,  9,  4]])"
            ]
          },
          "metadata": {},
          "execution_count": 2
        }
      ],
      "source": [
        "A = np.matrix([[2, 3],\n",
        "               [6, 1]])\n",
        "\n",
        "B = np.matrix([[7, 10],\n",
        "               [9, 4]])\n",
        "\n",
        "np.kron(A,B)"
      ]
    },
    {
      "cell_type": "markdown",
      "metadata": {
        "id": "RyrxBVPvVOem"
      },
      "source": [
        "In quantum computing, if we have basis states such as\n",
        "\n",
        "\\begin{align}\n",
        "|010\\rangle &= |0\\rangle \\otimes |1\\rangle \\otimes |0\\rangle \\\\\n",
        "&= \\begin{pmatrix}\n",
        "1\\\\0\n",
        "\\end{pmatrix} \\otimes\n",
        "\\begin{pmatrix}\n",
        "0\\\\1\n",
        "\\end{pmatrix} \\otimes\n",
        "\\begin{pmatrix}\n",
        "1\\\\0\n",
        "\\end{pmatrix} \\\\\n",
        "&= \\begin{pmatrix}\n",
        "0\\\\0\\\\1\\\\0\\\\0\\\\0\\\\0\\\\0\n",
        "\\end{pmatrix}\n",
        "\\end{align}\n",
        "\n",
        "we can operate on them using tensor product of operators. In particular, to operate on a three qubit basis state such at this, we need the tensor product of three $2 \\times 2$ matrix. For example, with the following four operators:\n",
        "\n",
        "\\begin{align}\n",
        "I = \\begin{pmatrix} 1&0 \\\\ 0&1 \\end{pmatrix}, \\quad\n",
        "X = \\begin{pmatrix} 0&1 \\\\ 1&0 \\end{pmatrix}, \\quad\n",
        "Y = \\begin{pmatrix} 0&i \\\\ -i&0 \\end{pmatrix}, \\quad\n",
        "Z = \\begin{pmatrix} 1&0 \\\\ 0&-1 \\end{pmatrix}, \\quad\n",
        "H = \\frac{1}{\\sqrt{2}} \\begin{pmatrix} 1&1 \\\\ 1&-1 \\end{pmatrix}\n",
        "\\end{align}\n",
        "\n",
        "We can form tensor products of matrices (gates) such as $H \\otimes X \\otimes I$ and $Z \\otimes Z \\otimes H$, and any other three matrix combination you might dream up. Let's define a basis state $|01\\rangle$ and compute a few operators that will operate on this basis state:"
      ]
    },
    {
      "cell_type": "code",
      "execution_count": 3,
      "metadata": {
        "id": "LRFdMPU6VOem",
        "outputId": "61879620-deb1-4295-fe22-beee9aee0d25",
        "colab": {
          "base_uri": "https://localhost:8080/"
        }
      },
      "outputs": [
        {
          "output_type": "stream",
          "name": "stdout",
          "text": [
            "[[0]\n",
            " [1]\n",
            " [0]\n",
            " [0]]\n"
          ]
        }
      ],
      "source": [
        "#Define the basis state |01>\n",
        "u = np.matrix([[1],\n",
        "               [0]])\n",
        "\n",
        "d = np.matrix([[0],\n",
        "               [1]])\n",
        "\n",
        "ud = np.kron(u,d)\n",
        "\n",
        "print(ud)"
      ]
    },
    {
      "cell_type": "code",
      "execution_count": 4,
      "metadata": {
        "id": "NGoN6bs6VOem"
      },
      "outputs": [],
      "source": [
        "# Define the matrices X, Y, Z, and H\n",
        "X = np.matrix([[0, 1],\n",
        "               [1, 0]])\n",
        "\n",
        "Y = np.matrix([[0, -1j],\n",
        "               [1j, 0]])\n",
        "\n",
        "Z = np.matrix([[1, 0],\n",
        "               [0, -1]])\n",
        "\n",
        "H = (1/np.sqrt(2))*np.matrix([[1, 1],\n",
        "                              [1, -1]])"
      ]
    },
    {
      "cell_type": "markdown",
      "metadata": {
        "id": "KdRMwk-yVOem"
      },
      "source": [
        "Now let's compute the following four tensor products:\n",
        "\n",
        "\\begin{align}\n",
        "X \\otimes Y, \\quad X \\otimes Z, \\quad H \\otimes H\n",
        "\\end{align}"
      ]
    },
    {
      "cell_type": "code",
      "execution_count": 5,
      "metadata": {
        "id": "Vg0yzmZ4VOem",
        "outputId": "f09aceba-a9f8-4dd0-bc0f-2a44e048c052",
        "colab": {
          "base_uri": "https://localhost:8080/"
        }
      },
      "outputs": [
        {
          "output_type": "stream",
          "name": "stdout",
          "text": [
            "[[0.+0.j 0.-0.j 0.+0.j 0.-1.j]\n",
            " [0.+0.j 0.+0.j 0.+1.j 0.+0.j]\n",
            " [0.+0.j 0.-1.j 0.+0.j 0.-0.j]\n",
            " [0.+1.j 0.+0.j 0.+0.j 0.+0.j]]\n"
          ]
        }
      ],
      "source": [
        "print(np.kron(X, Y))"
      ]
    },
    {
      "cell_type": "code",
      "execution_count": 6,
      "metadata": {
        "id": "AFH5-Wm4VOem",
        "outputId": "e711773f-05e4-4f65-9271-767d9305875e",
        "colab": {
          "base_uri": "https://localhost:8080/"
        }
      },
      "outputs": [
        {
          "output_type": "stream",
          "name": "stdout",
          "text": [
            "[[ 0  0  1  0]\n",
            " [ 0  0  0 -1]\n",
            " [ 1  0  0  0]\n",
            " [ 0 -1  0  0]]\n"
          ]
        }
      ],
      "source": [
        "print(np.kron(X, Z))"
      ]
    },
    {
      "cell_type": "code",
      "execution_count": 7,
      "metadata": {
        "id": "4OiwqXMmVOem",
        "outputId": "de8d2cb4-caba-404a-d053-abfdc197dc90",
        "colab": {
          "base_uri": "https://localhost:8080/"
        }
      },
      "outputs": [
        {
          "output_type": "stream",
          "name": "stdout",
          "text": [
            "[[ 0.5  0.5  0.5  0.5]\n",
            " [ 0.5 -0.5  0.5 -0.5]\n",
            " [ 0.5  0.5 -0.5 -0.5]\n",
            " [ 0.5 -0.5 -0.5  0.5]]\n"
          ]
        }
      ],
      "source": [
        "print(np.kron(H, H))"
      ]
    },
    {
      "cell_type": "markdown",
      "metadata": {
        "id": "1-XeoESDVOen"
      },
      "source": [
        "Now, we can compute the action of these matrices on $|01\\rangle$ as:\n",
        "\n",
        "\\begin{align}\n",
        "(X \\otimes Y)(|01\\rangle) = (X \\otimes Y)(|0\\rangle \\otimes |1\\rangle) = X|0\\rangle \\otimes Y|1\\rangle\n",
        "\\end{align}\n",
        "\n",
        "\\begin{align}\n",
        "(X \\otimes Z)(|01\\rangle) = (X \\otimes Z)(|0\\rangle \\otimes |1\\rangle) = X|0\\rangle \\otimes Z|1\\rangle\n",
        "\\end{align}\n",
        "\n",
        "\\begin{align}\n",
        "(H \\otimes H)(|01\\rangle) = (H \\otimes H)(|0\\rangle \\otimes |1\\rangle) = H|0\\rangle \\otimes H|1\\rangle\n",
        "\\end{align}"
      ]
    },
    {
      "cell_type": "code",
      "execution_count": 8,
      "metadata": {
        "id": "i6rTjnztVOen"
      },
      "outputs": [],
      "source": [
        "XY = np.kron(X, Y)\n",
        "XZ = np.kron(X, Z)\n",
        "HH = np.kron(H, H)"
      ]
    },
    {
      "cell_type": "code",
      "execution_count": 9,
      "metadata": {
        "id": "cCdGImI5VOen",
        "outputId": "ac4fb6e3-4bd1-496b-b062-1f84549ae025",
        "colab": {
          "base_uri": "https://localhost:8080/"
        }
      },
      "outputs": [
        {
          "output_type": "stream",
          "name": "stdout",
          "text": [
            "[[0.+0.j]\n",
            " [0.+0.j]\n",
            " [0.-1.j]\n",
            " [0.+0.j]]\n"
          ]
        }
      ],
      "source": [
        "print(XY * ud)"
      ]
    },
    {
      "cell_type": "code",
      "execution_count": 10,
      "metadata": {
        "id": "cKSqQizZVOen",
        "outputId": "3fd9fb8f-df19-4302-9002-ac2fa01178d0",
        "colab": {
          "base_uri": "https://localhost:8080/"
        }
      },
      "outputs": [
        {
          "output_type": "stream",
          "name": "stdout",
          "text": [
            "[[ 0]\n",
            " [ 0]\n",
            " [ 0]\n",
            " [-1]]\n"
          ]
        }
      ],
      "source": [
        "print(XZ * ud)"
      ]
    },
    {
      "cell_type": "code",
      "execution_count": 11,
      "metadata": {
        "id": "MypJUbrzVOen",
        "outputId": "5a16d4a6-49a4-465c-b90b-ab8050b91061",
        "colab": {
          "base_uri": "https://localhost:8080/"
        }
      },
      "outputs": [
        {
          "output_type": "stream",
          "name": "stdout",
          "text": [
            "[[ 0.5]\n",
            " [-0.5]\n",
            " [ 0.5]\n",
            " [-0.5]]\n"
          ]
        }
      ],
      "source": [
        "print(HH * ud)"
      ]
    },
    {
      "cell_type": "markdown",
      "metadata": {
        "id": "d7wFJpQWVOen"
      },
      "source": [
        "## Exercises\n",
        "\n",
        "1. Compute the following tensor product by hand:\n",
        "\n",
        "\\begin{align}\n",
        "\\begin{pmatrix}\n",
        "11 & 2 \\\\\n",
        "3 & 5\n",
        "\\end{pmatrix} \\otimes\n",
        "\\begin{pmatrix}\n",
        "7 & 8 \\\\\n",
        "0 & 1\n",
        "\\end{pmatrix}\n",
        "\\end{align}"
      ]
    },
    {
      "cell_type": "markdown",
      "source": [
        "\\begin{align}\n",
        "\\begin{pmatrix}\n",
        "77 & 88 & 14 & 16 \\\\\n",
        "0 & 11 & 0 & 2 \\\\\n",
        "21 & 24 & 35 & 40 \\\\\n",
        "0 & 3 & 0 & 5\n",
        "\\end{pmatrix}\n",
        "\\end{align}"
      ],
      "metadata": {
        "id": "IlkWYwuBXcmR"
      }
    },
    {
      "cell_type": "code",
      "source": [
        "A = np.matrix([[11, 2],\n",
        "               [3, 5]])\n",
        "\n",
        "B = np.matrix([[7, 8],\n",
        "               [0, 1]])\n",
        "\n",
        "np.kron(A,B)"
      ],
      "metadata": {
        "id": "Wco_e1XbXzNo",
        "outputId": "99800638-fc36-4b4e-c204-76fdd1a326e5",
        "colab": {
          "base_uri": "https://localhost:8080/"
        }
      },
      "execution_count": 12,
      "outputs": [
        {
          "output_type": "execute_result",
          "data": {
            "text/plain": [
              "matrix([[77, 88, 14, 16],\n",
              "        [ 0, 11,  0,  2],\n",
              "        [21, 24, 35, 40],\n",
              "        [ 0,  3,  0,  5]])"
            ]
          },
          "metadata": {},
          "execution_count": 12
        }
      ]
    },
    {
      "cell_type": "markdown",
      "metadata": {
        "id": "bvG_RkgPVOen"
      },
      "source": [
        "#### Compute the following tensor products by hand:\n",
        "\n",
        "2. $X \\otimes X$\n",
        "3. $Z \\otimes Y$\n",
        "4. $H \\otimes X$"
      ]
    },
    {
      "cell_type": "markdown",
      "source": [
        "\\begin{align}\n",
        "X\\otimes X=\\begin{pmatrix}\n",
        "0 & 0 & 0 & 1 \\\\\n",
        "0 & 0 & 1 & 0 \\\\\n",
        "0 & 1 & 0 & 0 \\\\\n",
        "1 & 0 & 0 & 0\n",
        "\\end{pmatrix}\n",
        "\\end{align}\n",
        "\n",
        "\\begin{align}\n",
        "Z\\otimes Y=\\begin{pmatrix}\n",
        "0 & i & 0 & 0 \\\\\n",
        "-i & 0 & 0 & 0 \\\\\n",
        "0 & 0 & 0 & -i \\\\\n",
        "0 & 0 & i & 0\n",
        "\\end{pmatrix}\n",
        "\\end{align}\n",
        "\\begin{align}\n",
        "H\\otimes X=1/\\sqrt{2}\\begin{pmatrix}\n",
        "0 & 1 & 0 & 1 \\\\\n",
        "1 & 0 & 1 & 0 \\\\\n",
        "0 & 1 & 0 & -1 \\\\\n",
        "1 & 0 & -1 & 0\n",
        "\\end{pmatrix}\n",
        "\\end{align}"
      ],
      "metadata": {
        "id": "kPFLDcHPYnc5"
      }
    },
    {
      "cell_type": "markdown",
      "metadata": {
        "id": "npD_4MxDVOen"
      },
      "source": [
        "#### Write Python code to compute the tensor products:\n",
        "\n",
        "5. $X \\otimes X$\n",
        "6. $Z \\otimes Y$\n",
        "7. $H \\otimes X$\n",
        "8. $H \\otimes H$"
      ]
    },
    {
      "cell_type": "code",
      "source": [
        "print(np.kron(X, X))\n",
        "print(np.kron(Z, Y))\n",
        "print(np.kron(H, X))\n",
        "print(np.kron(H, H))"
      ],
      "metadata": {
        "id": "IJNUb7OuZd2Q",
        "outputId": "5fc5585f-5701-46d5-ccdb-d15be7825ce6",
        "colab": {
          "base_uri": "https://localhost:8080/"
        }
      },
      "execution_count": 14,
      "outputs": [
        {
          "output_type": "stream",
          "name": "stdout",
          "text": [
            "[[0 0 0 1]\n",
            " [0 0 1 0]\n",
            " [0 1 0 0]\n",
            " [1 0 0 0]]\n",
            "[[ 0.+0.j  0.-1.j  0.+0.j  0.-0.j]\n",
            " [ 0.+1.j  0.+0.j  0.+0.j  0.+0.j]\n",
            " [ 0.+0.j  0.-0.j -0.+0.j  0.+1.j]\n",
            " [ 0.+0.j  0.+0.j -0.-1.j -0.+0.j]]\n",
            "[[ 0.          0.70710678  0.          0.70710678]\n",
            " [ 0.70710678  0.          0.70710678  0.        ]\n",
            " [ 0.          0.70710678 -0.         -0.70710678]\n",
            " [ 0.70710678  0.         -0.70710678 -0.        ]]\n",
            "[[ 0.5  0.5  0.5  0.5]\n",
            " [ 0.5 -0.5  0.5 -0.5]\n",
            " [ 0.5  0.5 -0.5 -0.5]\n",
            " [ 0.5 -0.5 -0.5  0.5]]\n"
          ]
        }
      ]
    },
    {
      "cell_type": "markdown",
      "metadata": {
        "id": "hktOLQYGVOen"
      },
      "source": [
        "9. Write Python code to verify that $(H \\otimes H) \\otimes H = H \\otimes (H \\otimes H)$."
      ]
    },
    {
      "cell_type": "code",
      "source": [
        "A = np.kron(np.kron(H,H),H)\n",
        "B = np.kron(H, np.kron(H,H))\n",
        "print(A==B)"
      ],
      "metadata": {
        "id": "9VR248RUZ-Hg",
        "outputId": "cdc3b85f-83e6-4fe9-922e-3531dae9823e",
        "colab": {
          "base_uri": "https://localhost:8080/"
        }
      },
      "execution_count": 16,
      "outputs": [
        {
          "output_type": "stream",
          "name": "stdout",
          "text": [
            "[[ True  True  True  True  True  True  True  True]\n",
            " [ True  True  True  True  True  True  True  True]\n",
            " [ True  True  True  True  True  True  True  True]\n",
            " [ True  True  True  True  True  True  True  True]\n",
            " [ True  True  True  True  True  True  True  True]\n",
            " [ True  True  True  True  True  True  True  True]\n",
            " [ True  True  True  True  True  True  True  True]\n",
            " [ True  True  True  True  True  True  True  True]]\n"
          ]
        }
      ]
    },
    {
      "cell_type": "markdown",
      "metadata": {
        "id": "pIbI98vNVOen"
      },
      "source": [
        "#### Use the following code defining the basis state $|010 \\rangle $ and the relevant tensor products to compute the following:\n",
        "\n",
        "10. $(X \\otimes X \\otimes Y)|010 \\rangle$\n",
        "11. $(X \\otimes Z \\otimes H)|010 \\rangle$\n",
        "12. $(H \\otimes H \\otimes H)|010 \\rangle$"
      ]
    },
    {
      "cell_type": "code",
      "execution_count": 17,
      "metadata": {
        "id": "bieClohEVOen"
      },
      "outputs": [],
      "source": [
        "# Define the matrices X, Y, Z, and H:\n",
        "X = np.matrix([[0, 1],\n",
        "               [1, 0]])\n",
        "\n",
        "Y = np.matrix([[0, -1j],\n",
        "               [1j, 0]])\n",
        "\n",
        "Z = np.matrix([[1, 0],\n",
        "               [0, -1]])\n",
        "\n",
        "H = (1/np.sqrt(2))*np.matrix([[1, 1],\n",
        "                              [1, -1]])\n",
        "\n",
        "# Define the following tensor products:\n",
        "XY = np.kron(X, Y)\n",
        "XZ = np.kron(X, Z)\n",
        "HH = np.kron(H, H)\n",
        "\n",
        "# Define the following additional tensor products:\n",
        "XXY = np.kron(X, XY)\n",
        "XZH = np.kron(XZ, H)\n",
        "HHH = np.kron(HH, H)\n",
        "\n",
        "# spin-up and spin-down\n",
        "u = np.matrix([[1],\n",
        "               [0]])\n",
        "\n",
        "d = np.matrix([[0],\n",
        "               [1]])\n",
        "\n",
        "# Define the basis state |01\n",
        "ud = np.kron(u,d)\n",
        "\n",
        "# Define the basis state |010>:\n",
        "udu = np.kron(ud, u)"
      ]
    },
    {
      "cell_type": "code",
      "execution_count": 18,
      "metadata": {
        "id": "FxWej2WGVOen",
        "outputId": "4718d327-39b6-42fd-983a-20a03f5948a6",
        "colab": {
          "base_uri": "https://localhost:8080/"
        }
      },
      "outputs": [
        {
          "output_type": "stream",
          "name": "stdout",
          "text": [
            "[[0.+0.j]\n",
            " [0.+0.j]\n",
            " [0.+0.j]\n",
            " [0.+0.j]\n",
            " [0.+0.j]\n",
            " [0.+1.j]\n",
            " [0.+0.j]\n",
            " [0.+0.j]]\n"
          ]
        }
      ],
      "source": [
        "XXYudu = XXY * udu\n",
        "print(XXYudu)"
      ]
    },
    {
      "cell_type": "code",
      "source": [
        "XZHudu = XZH * udu\n",
        "print(XZHudu)"
      ],
      "metadata": {
        "id": "KHplN2aaanZl",
        "outputId": "032e6270-6334-4dcf-a8bd-8f7f71122758",
        "colab": {
          "base_uri": "https://localhost:8080/"
        }
      },
      "execution_count": 19,
      "outputs": [
        {
          "output_type": "stream",
          "name": "stdout",
          "text": [
            "[[ 0.        ]\n",
            " [ 0.        ]\n",
            " [ 0.        ]\n",
            " [ 0.        ]\n",
            " [ 0.        ]\n",
            " [ 0.        ]\n",
            " [-0.70710678]\n",
            " [-0.70710678]]\n"
          ]
        }
      ]
    },
    {
      "cell_type": "code",
      "source": [
        "HHHudu = HHH * udu\n",
        "print(HHHudu)"
      ],
      "metadata": {
        "id": "JPuiWG01aqpT",
        "outputId": "ce597a12-a464-4e96-d75b-3eff3236059d",
        "colab": {
          "base_uri": "https://localhost:8080/"
        }
      },
      "execution_count": 20,
      "outputs": [
        {
          "output_type": "stream",
          "name": "stdout",
          "text": [
            "[[ 0.35355339]\n",
            " [ 0.35355339]\n",
            " [-0.35355339]\n",
            " [-0.35355339]\n",
            " [ 0.35355339]\n",
            " [ 0.35355339]\n",
            " [-0.35355339]\n",
            " [-0.35355339]]\n"
          ]
        }
      ]
    },
    {
      "cell_type": "code",
      "source": [],
      "metadata": {
        "id": "fEaB874iatkU"
      },
      "execution_count": null,
      "outputs": []
    }
  ],
  "metadata": {
    "kernelspec": {
      "display_name": "Python 3",
      "language": "python",
      "name": "python3"
    },
    "language_info": {
      "codemirror_mode": {
        "name": "ipython",
        "version": 3
      },
      "file_extension": ".py",
      "mimetype": "text/x-python",
      "name": "python",
      "nbconvert_exporter": "python",
      "pygments_lexer": "ipython3",
      "version": "3.7.3"
    },
    "colab": {
      "provenance": []
    }
  },
  "nbformat": 4,
  "nbformat_minor": 0
}